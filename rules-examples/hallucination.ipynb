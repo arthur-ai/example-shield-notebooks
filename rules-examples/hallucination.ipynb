{
 "cells": [
  {
   "cell_type": "markdown",
   "metadata": {},
   "source": [
    "# Hallucination Rule Demonstration Notebook\n",
    "\n",
    "In this notebook we will walk through the following steps in order to demonstrate what the Shield Hallucination Rule is capable of.\n",
    "\n",
    "- Hallucination detected.\n",
    "- No hallucination detected. \n",
    "- Not evaluated for hallucinaion.\n",
    "\n",
    "Pre  Requisites: \n",
    "- A Shield env and API key.\n",
    "\n",
    "1. Create a new task for Hallucination evaluation \n",
    "2. Arthur Benchmark dataset evaluation \n",
    "   1. Run the examples against a pre-configured Shield task from Step 1 \n",
    "   2. View our results \n",
    "3. Additional examples evaluation using datasets referenced in our documentation: https://shield.docs.arthur.ai/docs/hallucination#benchmarks\n",
    "   1. Run the examples against a pre-configured Shield task from Step 1 \n",
    "    2. View our results "
   ]
  },
  {
   "cell_type": "markdown",
   "metadata": {},
   "source": [
    "#### Configure Shield Test Env Details"
   ]
  },
  {
   "cell_type": "code",
   "execution_count": 169,
   "metadata": {},
   "outputs": [
    {
     "data": {
      "text/plain": [
       "'Setup against: http://127.0.0.1:8000/api/v2'"
      ]
     },
     "execution_count": 169,
     "metadata": {},
     "output_type": "execute_result"
    }
   ],
   "source": [
    "# %pip install datasets\n",
    "# %pip install scikit-learn\n",
    "from datasets import load_dataset, concatenate_datasets\n",
    "from datetime import datetime\n",
    "import pandas as pd\n",
    "from os.path import abspath, join\n",
    "import sys\n",
    "import random\n",
    "\n",
    "utils_path = abspath(join('..', 'utils'))\n",
    "if utils_path not in sys.path:\n",
    "    sys.path.append(utils_path)\n",
    "\n",
    "from shield_utils import setup_env, set_up_task_and_rule, run_shield_evaluation, task_prompt_validation, task_response_validation\n",
    "from analysis_utils import print_performance_metrics, granular_result_dfs\n",
    "\n",
    "\n",
    "pd.set_option('display.max_colwidth', None)\n",
    "pd.set_option('display.max_rows', None)\n",
    "\n",
    "setup_env(base_url=\"http://127.0.0.1:8000\", api_key=\"SuperSafe\")"
   ]
  },
  {
   "cell_type": "markdown",
   "metadata": {},
   "source": [
    "---\n",
    "### 1.Setup: Configure a test task and enable Prompt Injection Rule "
   ]
  },
  {
   "cell_type": "code",
   "execution_count": 33,
   "metadata": {},
   "outputs": [
    {
     "name": "stdout",
     "output_type": "stream",
     "text": [
      "{'id': '0d313e21-dc5a-432c-a540-dd88f5f1aa10', 'name': 'Hallucination Rule', 'type': 'ModelHallucinationRuleV2', 'apply_to_prompt': False, 'apply_to_response': True, 'enabled': True, 'scope': 'task', 'created_at': 1711970896368, 'updated_at': 1711970896368, 'config': None}\n",
      "{'id': 'd9945390-5c71-460b-bd78-7741a821029b', 'name': 'hallucination-task-4786', 'created_at': 1711970896345, 'updated_at': 1711970896345, 'rules': [{'id': '0d313e21-dc5a-432c-a540-dd88f5f1aa10', 'name': 'Hallucination Rule', 'type': 'ModelHallucinationRuleV2', 'apply_to_prompt': False, 'apply_to_response': True, 'enabled': True, 'scope': 'task', 'created_at': 1711970896368, 'updated_at': 1711970896368, 'config': None}]}\n"
     ]
    }
   ],
   "source": [
    "hallucination_rule_config =  {\n",
    "    \"name\": \"Hallucination Rule\",\n",
    "    \"type\": \"ModelHallucinationRuleV2\",\n",
    "    \"apply_to_prompt\": False,\n",
    "    \"apply_to_response\": True\n",
    "}\n",
    "\n",
    "# Create task, archive all rules except the one we pass, create the rule we pass \n",
    "hallucination_rule, hallucination_task = set_up_task_and_rule(hallucination_rule_config, \"hallucination-task\")\n",
    "\n",
    "print(hallucination_rule)\n",
    "print(hallucination_task)"
   ]
  },
  {
   "cell_type": "markdown",
   "metadata": {},
   "source": [
    "---\n",
    "### 2. Arthur benchmark dataset evaluation"
   ]
  },
  {
   "cell_type": "markdown",
   "metadata": {},
   "source": [
    "First, we load two benchmark datasets, each of which has 1 or more labels per response (for each 'claim' within the response).\n",
    "\n",
    "The hallucination check returns a label for each claim. \n",
    "\n",
    "We format the labels here to be consistent across datasets: comma-separated with no list markers like `[` or `]`"
   ]
  },
  {
   "cell_type": "code",
   "execution_count": 141,
   "metadata": {},
   "outputs": [],
   "source": [
    "df_names = ['dolly', 'wikibio']\n",
    "dfs = [pd.read_csv(f\"./arthur_benchmark_datasets/hallucination_{name}.csv\") for name in df_names]\n",
    "for df in dfs:\n",
    "    for c in ['label', 'binary_label']:\n",
    "        if c in df.columns:\n",
    "            for i, row in df.iterrows():\n",
    "                df.loc[i,c] = df.loc[i,c].replace(\"'\",\"\").replace(\"[\",\"\").replace(\"]\",\"\")"
   ]
  },
  {
   "cell_type": "code",
   "execution_count": 167,
   "metadata": {},
   "outputs": [
    {
     "data": {
      "text/html": [
       "<div>\n",
       "<style scoped>\n",
       "    .dataframe tbody tr th:only-of-type {\n",
       "        vertical-align: middle;\n",
       "    }\n",
       "\n",
       "    .dataframe tbody tr th {\n",
       "        vertical-align: top;\n",
       "    }\n",
       "\n",
       "    .dataframe thead th {\n",
       "        text-align: right;\n",
       "    }\n",
       "</style>\n",
       "<table border=\"1\" class=\"dataframe\">\n",
       "  <thead>\n",
       "    <tr style=\"text-align: right;\">\n",
       "      <th></th>\n",
       "      <th>context</th>\n",
       "      <th>user_input</th>\n",
       "      <th>llm_response</th>\n",
       "      <th>binary_label</th>\n",
       "      <th>shield_result</th>\n",
       "    </tr>\n",
       "  </thead>\n",
       "  <tbody>\n",
       "    <tr>\n",
       "      <th>0</th>\n",
       "      <td>\"Needles and Pins\" is a rock song credited to American writers Jack Nitzsche and Sonny Bono. Jackie DeShannon recorded it in 1963 and other versions followed. The most successful ones were by the Searchers, whose version reached No. 1 on the UK singles chart in 1964, and Smokie, who had a worldwide hit in 1977. Others who recorded the song include the Ramones, Gene Clark, and Tom Petty and the Heartbreakers with Stevie Nicks.\\n\\nJackie DeShannon version (1963)\\nIn his autobiography, Bono states that he sang along with Nitzsche's guitar-playing, thus creating both the tune and the lyrics, being guided by the chord progressions. However, Jackie DeShannon claims that the song was written at the piano, and that she was a full participant in the song's creation, along with Nitzsche and Bono, although she did not get formal credit.\\n\\nDeShannon was the first to record the song; in the US it peaked at number 84 on the Billboard Hot 100 singles chart in May 1963. Though it was only a minor US hit, DeShannon's recording of the song topped the charts in Canada, hitting number one on the CHUM Chart in July 1963</td>\n",
       "      <td>Who was the first to record the Needles and Pins song?</td>\n",
       "      <td>The first artist to record Needles and Pins song was DeShannon.</td>\n",
       "      <td>TRUE</td>\n",
       "      <td>True</td>\n",
       "    </tr>\n",
       "    <tr>\n",
       "      <th>1</th>\n",
       "      <td>\"Needles and Pins\" is a rock song credited to American writers Jack Nitzsche and Sonny Bono. Jackie DeShannon recorded it in 1963 and other versions followed. The most successful ones were by the Searchers, whose version reached No. 1 on the UK singles chart in 1964, and Smokie, who had a worldwide hit in 1977. Others who recorded the song include the Ramones, Gene Clark, and Tom Petty and the Heartbreakers with Stevie Nicks.\\n\\nJackie DeShannon version (1963)\\nIn his autobiography, Bono states that he sang along with Nitzsche's guitar-playing, thus creating both the tune and the lyrics, being guided by the chord progressions. However, Jackie DeShannon claims that the song was written at the piano, and that she was a full participant in the song's creation, along with Nitzsche and Bono, although she did not get formal credit.\\n\\nDeShannon was the first to record the song; in the US it peaked at number 84 on the Billboard Hot 100 singles chart in May 1963. Though it was only a minor US hit, DeShannon's recording of the song topped the charts in Canada, hitting number one on the CHUM Chart in July 1963</td>\n",
       "      <td>Who was the first to record the Needles and Pins song?</td>\n",
       "      <td>The first artist to record Needles and Pins song was Jackie Edwards.</td>\n",
       "      <td>FALSE</td>\n",
       "      <td>False</td>\n",
       "    </tr>\n",
       "  </tbody>\n",
       "</table>\n",
       "</div>"
      ],
      "text/plain": [
       "                                                                                                                                                                                                                                                                                                                                                                                                                                                                                                                                                                                                                                                                                                                                                                                                                                                                                                                                                                                                                                                                                                                                                         context  \\\n",
       "0  \"Needles and Pins\" is a rock song credited to American writers Jack Nitzsche and Sonny Bono. Jackie DeShannon recorded it in 1963 and other versions followed. The most successful ones were by the Searchers, whose version reached No. 1 on the UK singles chart in 1964, and Smokie, who had a worldwide hit in 1977. Others who recorded the song include the Ramones, Gene Clark, and Tom Petty and the Heartbreakers with Stevie Nicks.\\n\\nJackie DeShannon version (1963)\\nIn his autobiography, Bono states that he sang along with Nitzsche's guitar-playing, thus creating both the tune and the lyrics, being guided by the chord progressions. However, Jackie DeShannon claims that the song was written at the piano, and that she was a full participant in the song's creation, along with Nitzsche and Bono, although she did not get formal credit.\\n\\nDeShannon was the first to record the song; in the US it peaked at number 84 on the Billboard Hot 100 singles chart in May 1963. Though it was only a minor US hit, DeShannon's recording of the song topped the charts in Canada, hitting number one on the CHUM Chart in July 1963   \n",
       "1  \"Needles and Pins\" is a rock song credited to American writers Jack Nitzsche and Sonny Bono. Jackie DeShannon recorded it in 1963 and other versions followed. The most successful ones were by the Searchers, whose version reached No. 1 on the UK singles chart in 1964, and Smokie, who had a worldwide hit in 1977. Others who recorded the song include the Ramones, Gene Clark, and Tom Petty and the Heartbreakers with Stevie Nicks.\\n\\nJackie DeShannon version (1963)\\nIn his autobiography, Bono states that he sang along with Nitzsche's guitar-playing, thus creating both the tune and the lyrics, being guided by the chord progressions. However, Jackie DeShannon claims that the song was written at the piano, and that she was a full participant in the song's creation, along with Nitzsche and Bono, although she did not get formal credit.\\n\\nDeShannon was the first to record the song; in the US it peaked at number 84 on the Billboard Hot 100 singles chart in May 1963. Though it was only a minor US hit, DeShannon's recording of the song topped the charts in Canada, hitting number one on the CHUM Chart in July 1963   \n",
       "\n",
       "                                               user_input  \\\n",
       "0  Who was the first to record the Needles and Pins song?   \n",
       "1  Who was the first to record the Needles and Pins song?   \n",
       "\n",
       "                                                           llm_response  \\\n",
       "0       The first artist to record Needles and Pins song was DeShannon.   \n",
       "1  The first artist to record Needles and Pins song was Jackie Edwards.   \n",
       "\n",
       "  binary_label shield_result  \n",
       "0         TRUE          True  \n",
       "1        FALSE         False  "
      ]
     },
     "execution_count": 167,
     "metadata": {},
     "output_type": "execute_result"
    }
   ],
   "source": [
    "dfs[0].head(2)"
   ]
  },
  {
   "cell_type": "code",
   "execution_count": 168,
   "metadata": {},
   "outputs": [
    {
     "data": {
      "text/html": [
       "<div>\n",
       "<style scoped>\n",
       "    .dataframe tbody tr th:only-of-type {\n",
       "        vertical-align: middle;\n",
       "    }\n",
       "\n",
       "    .dataframe tbody tr th {\n",
       "        vertical-align: top;\n",
       "    }\n",
       "\n",
       "    .dataframe thead th {\n",
       "        text-align: right;\n",
       "    }\n",
       "</style>\n",
       "<table border=\"1\" class=\"dataframe\">\n",
       "  <thead>\n",
       "    <tr style=\"text-align: right;\">\n",
       "      <th></th>\n",
       "      <th>Unnamed: 0</th>\n",
       "      <th>llm_response</th>\n",
       "      <th>context</th>\n",
       "      <th>label</th>\n",
       "      <th>binary_label</th>\n",
       "      <th>shield_result</th>\n",
       "    </tr>\n",
       "  </thead>\n",
       "  <tbody>\n",
       "    <tr>\n",
       "      <th>0</th>\n",
       "      <td>83</td>\n",
       "      <td>Nodar Kumaritashvili (Georgian: ნოდარ ქუმარითაშვილი; 12 December 1988 – 12 February 2010) was a Georgian luger who died during a training run prior to the 2010 Winter Olympics in Vancouver. He was the first athlete to die in competition at the Olympic Games since the death of Danish cyclist Knud Enemark Jensen at the 1960 Summer Olympics.\\n\\nKumaritashvili was born in Bakuriani, Georgia, and began competing in luge in 2003. He was the Georgian national champion in 2008 and 2009, and was the 2009 Junior World Champion. He was considered a medal contender for the 2010 Winter Olympics.\\n\\nOn 12 February 2010, Kumaritashvili was killed during a training run at the Whistler Sliding Centre, the venue for the luge events at the 2010 Winter Olympics. He lost control of his sled at</td>\n",
       "      <td>Nodar Kumaritashvili (25 November 1988 – 12 February 2010) was a Georgian luger who suffered a fatal crash during a training run for the 2010 Winter Olympics competition in Whistler, Canada, on the day of the opening ceremony. He became the fourth athlete to have died during Winter Olympics preparations, after British luger Kazimierz Kay-Skrzypeski, Australian skier Ross Milne (both Innsbruck 1964), and Swiss speed skier Nicolas Bochatay (Albertville 1992), and the seventh athlete to die in either a Summer or Winter Olympic Games. Kumaritashvili, who first began to luge when he was 13, came from a family of seasoned lugers; a relative of his was the founder of organised sledding in Georgia, and his father competed when he was younger. A cousin of Kumaritashvili on his father's side was the head of the Georgian Luge Federation; Kumaritashvili himself began competing in the 2008–09 Luge World Cup, where he finished 55th out of 62 racers. Outside of luge, Kumaritashvili had been a student at the Georgian Technical University, where he earned an economics degree in 2009.</td>\n",
       "      <td>minor_inaccurate, minor_inaccurate, minor_inaccurate, minor_inaccurate, minor_inaccurate, accurate, accurate</td>\n",
       "      <td>False, False, False, False, False, True, True</td>\n",
       "      <td>True, False, True, True, True, True, False</td>\n",
       "    </tr>\n",
       "    <tr>\n",
       "      <th>1</th>\n",
       "      <td>106</td>\n",
       "      <td>Malcolm Brogdon (born December 11, 1992) is an American professional basketball player for the Indiana Pacers of the National Basketball Association (NBA). He played college basketball for the Virginia Cavaliers, where he was the ACC Player of the Year and an All-American in 2016. He was selected in the second round of the 2016 NBA draft by the Milwaukee Bucks with the 36th overall pick. Brogdon was named the NBA Rookie of the Year in 2017. He was traded to the Pacers in 2019.\\n\\nBrogdon is a two-time NBA All-Star and was named to the All-Defensive Second Team in 2019. He is known for his defensive prowess and his ability to shoot from long range. He is also an advocate for social justice and has been involved in several initiatives to promote racial equality.</td>\n",
       "      <td>Malcolm Moses Adams Brogdon (born December 11, 1992) is an American basketball player who currently plays for the Virginia Cavaliers men's basketball team. He was named to the All-Atlantic Coast Conference (ACC) First Team in 2014 by the league's coaches and to the Third Team by the media. Brogdon redshirted his sophomore year after suffering a serious foot injury the prior season. He was known as one of the top contributors to the team's successful 2013-14 and 2014-15 seasons. In the 2013-14 season, Brogdon averaged 12.7 points, 5.4 rebounds, and 2.7 assists per game. He is a member of the Academic Honor Roll and is currently pursuing a Master's degree in Public Policy at the Frank Batten School of Leadership and Public Policy. In 2015, he was named a consensus Second-Team All American, as well as the All-ACC First Team and ACC Co-Defensive Player of the Year. In July 2015, he participated in the training camp for the United States men's national basketball team, and represented the United States at the 2015 Pan American Games, where the team took the bronze medal.</td>\n",
       "      <td>accurate, accurate, accurate, accurate, accurate, minor_inaccurate, accurate, major_inaccurate</td>\n",
       "      <td>True, True, True, True, True, False, True, False</td>\n",
       "      <td>True, False, True, True, False, True, True, True</td>\n",
       "    </tr>\n",
       "  </tbody>\n",
       "</table>\n",
       "</div>"
      ],
      "text/plain": [
       "   Unnamed: 0  \\\n",
       "0          83   \n",
       "1         106   \n",
       "\n",
       "                                                                                                                                                                                                                                                                                                                                                                                                                                                                                                                                                                                                                                                                                                                                                                                                      llm_response  \\\n",
       "0  Nodar Kumaritashvili (Georgian: ნოდარ ქუმარითაშვილი; 12 December 1988 – 12 February 2010) was a Georgian luger who died during a training run prior to the 2010 Winter Olympics in Vancouver. He was the first athlete to die in competition at the Olympic Games since the death of Danish cyclist Knud Enemark Jensen at the 1960 Summer Olympics.\\n\\nKumaritashvili was born in Bakuriani, Georgia, and began competing in luge in 2003. He was the Georgian national champion in 2008 and 2009, and was the 2009 Junior World Champion. He was considered a medal contender for the 2010 Winter Olympics.\\n\\nOn 12 February 2010, Kumaritashvili was killed during a training run at the Whistler Sliding Centre, the venue for the luge events at the 2010 Winter Olympics. He lost control of his sled at   \n",
       "1               Malcolm Brogdon (born December 11, 1992) is an American professional basketball player for the Indiana Pacers of the National Basketball Association (NBA). He played college basketball for the Virginia Cavaliers, where he was the ACC Player of the Year and an All-American in 2016. He was selected in the second round of the 2016 NBA draft by the Milwaukee Bucks with the 36th overall pick. Brogdon was named the NBA Rookie of the Year in 2017. He was traded to the Pacers in 2019.\\n\\nBrogdon is a two-time NBA All-Star and was named to the All-Defensive Second Team in 2019. He is known for his defensive prowess and his ability to shoot from long range. He is also an advocate for social justice and has been involved in several initiatives to promote racial equality.   \n",
       "\n",
       "                                                                                                                                                                                                                                                                                                                                                                                                                                                                                                                                                                                                                                                                                                                                                                                                                                                                                                                                                                                                                                                                                                                       context  \\\n",
       "0  Nodar Kumaritashvili (25 November 1988 – 12 February 2010) was a Georgian luger who suffered a fatal crash during a training run for the 2010 Winter Olympics competition in Whistler, Canada, on the day of the opening ceremony. He became the fourth athlete to have died during Winter Olympics preparations, after British luger Kazimierz Kay-Skrzypeski, Australian skier Ross Milne (both Innsbruck 1964), and Swiss speed skier Nicolas Bochatay (Albertville 1992), and the seventh athlete to die in either a Summer or Winter Olympic Games. Kumaritashvili, who first began to luge when he was 13, came from a family of seasoned lugers; a relative of his was the founder of organised sledding in Georgia, and his father competed when he was younger. A cousin of Kumaritashvili on his father's side was the head of the Georgian Luge Federation; Kumaritashvili himself began competing in the 2008–09 Luge World Cup, where he finished 55th out of 62 racers. Outside of luge, Kumaritashvili had been a student at the Georgian Technical University, where he earned an economics degree in 2009.   \n",
       "1   Malcolm Moses Adams Brogdon (born December 11, 1992) is an American basketball player who currently plays for the Virginia Cavaliers men's basketball team. He was named to the All-Atlantic Coast Conference (ACC) First Team in 2014 by the league's coaches and to the Third Team by the media. Brogdon redshirted his sophomore year after suffering a serious foot injury the prior season. He was known as one of the top contributors to the team's successful 2013-14 and 2014-15 seasons. In the 2013-14 season, Brogdon averaged 12.7 points, 5.4 rebounds, and 2.7 assists per game. He is a member of the Academic Honor Roll and is currently pursuing a Master's degree in Public Policy at the Frank Batten School of Leadership and Public Policy. In 2015, he was named a consensus Second-Team All American, as well as the All-ACC First Team and ACC Co-Defensive Player of the Year. In July 2015, he participated in the training camp for the United States men's national basketball team, and represented the United States at the 2015 Pan American Games, where the team took the bronze medal.   \n",
       "\n",
       "                                                                                                          label  \\\n",
       "0  minor_inaccurate, minor_inaccurate, minor_inaccurate, minor_inaccurate, minor_inaccurate, accurate, accurate   \n",
       "1                accurate, accurate, accurate, accurate, accurate, minor_inaccurate, accurate, major_inaccurate   \n",
       "\n",
       "                                       binary_label  \\\n",
       "0     False, False, False, False, False, True, True   \n",
       "1  True, True, True, True, True, False, True, False   \n",
       "\n",
       "                                      shield_result  \n",
       "0        True, False, True, True, True, True, False  \n",
       "1  True, False, True, True, False, True, True, True  "
      ]
     },
     "execution_count": 168,
     "metadata": {},
     "output_type": "execute_result"
    }
   ],
   "source": [
    "dfs[1].head(2)"
   ]
  },
  {
   "cell_type": "markdown",
   "metadata": {},
   "source": [
    "#### 2.1  Run the examples against a pre-configured Shield task from Step 1 "
   ]
  },
  {
   "cell_type": "markdown",
   "metadata": {},
   "source": [
    "First lets validate that the task was created correctly"
   ]
  },
  {
   "cell_type": "code",
   "execution_count": 157,
   "metadata": {},
   "outputs": [
    {
     "name": "stdout",
     "output_type": "stream",
     "text": [
      "Valid task {'id': 'd9945390-5c71-460b-bd78-7741a821029b', 'name': 'hallucination-task-4786', 'created_at': 1711970896345, 'updated_at': 1711970896345, 'rules': [{'id': '0d313e21-dc5a-432c-a540-dd88f5f1aa10', 'name': 'Hallucination Rule', 'type': 'ModelHallucinationRuleV2', 'apply_to_prompt': False, 'apply_to_response': True, 'enabled': True, 'scope': 'task', 'created_at': 1711970896368, 'updated_at': 1711970896368, 'config': None}]}\n"
     ]
    }
   ],
   "source": [
    "if (len(hallucination_task[\"rules\"]) > 1):\n",
    "    raise Exception(\"Cannot have more than one rule enabled for this test.\")\n",
    "else: \n",
    "    if hallucination_task[\"rules\"][0][\"type\"] != \"ModelHallucinationRuleV2\":\n",
    "            raise Exception(\"Invalid rule type enabled. Must be PromptInjectionRule.\")\n",
    "    else: \n",
    "         print(f\"Valid task {hallucination_task}\")\n",
    "task_id = hallucination_task[\"id\"]\n",
    "rule_id = hallucination_rule[\"id\"]"
   ]
  },
  {
   "cell_type": "markdown",
   "metadata": {},
   "source": [
    "Here we define two evaluation functions:\n",
    "\n",
    "`shield_hallucination_evaluation` returns a comma-separated string of labels that shield is returning or each claim in the response.\n",
    "\n",
    "`daily_shield_hallucination_benchmark` runs `shield_hallucination_evaluation` and saves the results to a new dataframe stamped with today's date"
   ]
  },
  {
   "cell_type": "code",
   "execution_count": 159,
   "metadata": {},
   "outputs": [],
   "source": [
    "def shield_hallucination_evaluation(row, task_id, rule_id, verbose=True): \n",
    "    \"\"\"Returns the result of a shield hallucination rule as a string\n",
    "\n",
    "    Args:\n",
    "        row: row from pandas dataframe with columns `llm_response` and `context`\n",
    "        task_id: str, UUID for the hallucination task created above\n",
    "        rule_id: str, UUID for the hallucination rule created above\n",
    "    Returns:\n",
    "        result_string: str, comma-separated string of labels that shield is returning or each claim in the response\n",
    "    \"\"\"\n",
    "    shield_prompt_inference = task_prompt_validation(\"dummy\", 1, task_id)\n",
    "    inference_id = shield_prompt_inference[\"inference_id\"]\n",
    "    if verbose: print(\"===============\\n\", row)\n",
    "    shield_result = task_response_validation(row.llm_response, row.context, inference_id, task_id)\n",
    "    for rule_result in shield_result[\"rule_results\"]:\n",
    "        if rule_result[\"id\"] == rule_id:\n",
    "            result_string = str([x['valid'] for x in rule_result['details']['claims']]).replace(\"[\",\"\").replace(\"]\",\"\")\n",
    "            if verbose: print(result_string)\n",
    "            return result_string\n",
    "\n",
    "def daily_shield_hallucination_benchmark(task_id, rule_id, verbose=True):\n",
    "    \"\"\"Run the benchmark datasets and save them with shield hallucination results as new csvs marked with today's date\n",
    "    \n",
    "    Args:\n",
    "        task_id: str, UUID for the hallucination task created above\n",
    "        rule_id: str, UUID for the hallucination rule created above\n",
    "    \"\"\"\n",
    "    current_date = datetime.now().strftime(\"%Y-%m-%d\")\n",
    "    for df, name in zip(dfs, df_names):\n",
    "        print(\"Benchmarking on dataset\", name)\n",
    "        df['shield_result'] = [shield_hallucination_evaluation(row, task_id, rule_id, verbose=verbose) for _, row in df.iterrows()]\n",
    "        df.to_csv(f\"./results/hallucination_benchmark_{name}_{current_date}.csv\")"
   ]
  },
  {
   "cell_type": "markdown",
   "metadata": {},
   "source": [
    "Now we run the benchmark function which will save our results to analyze below"
   ]
  },
  {
   "cell_type": "code",
   "execution_count": 165,
   "metadata": {},
   "outputs": [],
   "source": [
    "daily_shield_hallucination_benchmark(task_id, rule_id)"
   ]
  },
  {
   "cell_type": "markdown",
   "metadata": {},
   "source": [
    "#### 2.2 Analyze Results"
   ]
  },
  {
   "cell_type": "markdown",
   "metadata": {},
   "source": [
    "Since we get multiple labels per response (for each claim in the response), we can measure performance both at response level and at the claim level.\n",
    "\n",
    "Response level performance means just looking at the shield result - did the shield rule fail or not? Was there a hallucination *somewhere* in the LLM response? Perfect response-level performance does not require labelling individual claims within a response accurately - it only requires for the shield result to fail in correspondence with the presence of hallucination anywhere in an LLM response.\n",
    "\n",
    "Claim level performance is more strict - which claims did the shield result label as valid or invalid? Are those the claims that are actually faithful to the context?\n",
    "\n",
    "You can typically expect response level performance to be stronger than claim level performance."
   ]
  },
  {
   "cell_type": "code",
   "execution_count": 162,
   "metadata": {},
   "outputs": [],
   "source": [
    "from sklearn.metrics import precision_score, recall_score, f1_score\n",
    "def response_level_performance(df):\n",
    "    \"\"\"Evaluates the performance of shield hallucination labels at the response level\"\"\"\n",
    "    y_true, y_pred = [], []\n",
    "    for i, row in df.iterrows():\n",
    "        if row.binary_label==False or 'false' in row.binary_label.lower():\n",
    "            y_true.append(True)\n",
    "        else:\n",
    "            y_true.append(False)\n",
    "\n",
    "        if row.shield_result==False or 'false' in row.shield_result.lower():\n",
    "            y_pred.append(True)\n",
    "        else:\n",
    "            y_pred.append(False)\n",
    "    precision = precision_score(y_true, y_pred)\n",
    "    recall = recall_score(y_true, y_pred)\n",
    "    f1 = f1_score(y_true, y_pred)\n",
    "    return precision, recall, f1\n",
    "\n",
    "def claim_level_performance(df):\n",
    "    \"\"\"Evaluates the performance of shield hallucination labels at the claim level\"\"\"\n",
    "    y_true, y_pred = [], []\n",
    "    for i, row in df.iterrows():\n",
    "        labels = row.binary_label.split(\",\")\n",
    "        preds = row.shield_result.split(\",\")\n",
    "        if len(labels) == len(preds):\n",
    "            y_true.extend([x.strip().lower()=='false' for x in labels])\n",
    "            y_pred.extend([x.strip().lower()=='false' for x in preds])\n",
    "        else:\n",
    "            print(\"no including index\", i, \"(inconsistent # of labels)\")\n",
    "    precision = precision_score(y_true, y_pred)\n",
    "    recall = recall_score(y_true, y_pred)\n",
    "    f1 = f1_score(y_true, y_pred)\n",
    "    return precision, recall, f1"
   ]
  },
  {
   "cell_type": "code",
   "execution_count": 164,
   "metadata": {},
   "outputs": [
    {
     "name": "stdout",
     "output_type": "stream",
     "text": [
      "~~~~~~~~~~~~~~~~~~~~~~\n",
      "\n",
      "%%% dolly %%%\n",
      "\n",
      "\n",
      ">>>>Response level hallucination detection performance:\n",
      "\n",
      "Precision: 0.9342105263157895\n",
      "Recall: 0.7717391304347826\n",
      "F1: 0.8452380952380952\n",
      "\n",
      ">>>>Claim level hallucination detection performance:\n",
      "\n",
      "Precision: 0.9146341463414634\n",
      "Recall: 0.6410256410256411\n",
      "F1: 0.7537688442211056\n",
      "~~~~~~~~~~~~~~~~~~~~~~\n",
      "\n",
      "%%% wikibio %%%\n",
      "\n",
      "\n",
      ">>>>Response level hallucination detection performance:\n",
      "\n",
      "Precision: 1.0\n",
      "Recall: 0.9148936170212766\n",
      "F1: 0.9555555555555556\n",
      "no including index 9 (inconsistent # of labels)\n",
      "no including index 11 (inconsistent # of labels)\n",
      "no including index 12 (inconsistent # of labels)\n",
      "no including index 23 (inconsistent # of labels)\n",
      "no including index 24 (inconsistent # of labels)\n",
      "no including index 25 (inconsistent # of labels)\n",
      "no including index 26 (inconsistent # of labels)\n",
      "no including index 27 (inconsistent # of labels)\n",
      "no including index 31 (inconsistent # of labels)\n",
      "no including index 33 (inconsistent # of labels)\n",
      "no including index 37 (inconsistent # of labels)\n",
      "no including index 42 (inconsistent # of labels)\n",
      "no including index 43 (inconsistent # of labels)\n",
      "no including index 47 (inconsistent # of labels)\n",
      "\n",
      ">>>>Claim level hallucination detection performance:\n",
      "\n",
      "Precision: 0.9292929292929293\n",
      "Recall: 0.4444444444444444\n",
      "F1: 0.6013071895424836\n"
     ]
    }
   ],
   "source": [
    "for name in df_names:\n",
    "    print(\"~~~~~~~~~~~~~~~~~~~~~~\\n\\n%%%\", name, \"%%%\\n\")\n",
    "    result_df = pd.read_csv(f\"results/hallucination_benchmark_{name}_2024-04-01.csv\")\n",
    "    p, r, f = response_level_performance(result_df)\n",
    "    print(f\"\\n>>>>Response level hallucination detection performance:\\n\\nPrecision: {p}\\nRecall: {r}\\nF1: {f}\")\n",
    "    p, r, f = claim_level_performance(result_df)\n",
    "    print(f\"\\n>>>>Claim level hallucination detection performance:\\n\\nPrecision: {p}\\nRecall: {r}\\nF1: {f}\")"
   ]
  },
  {
   "cell_type": "code",
   "execution_count": null,
   "metadata": {},
   "outputs": [],
   "source": []
  }
 ],
 "metadata": {
  "kernelspec": {
   "display_name": "Python 3 (ipykernel)",
   "language": "python",
   "name": "python3"
  },
  "language_info": {
   "codemirror_mode": {
    "name": "ipython",
    "version": 3
   },
   "file_extension": ".py",
   "mimetype": "text/x-python",
   "name": "python",
   "nbconvert_exporter": "python",
   "pygments_lexer": "ipython3",
   "version": "3.10.13"
  }
 },
 "nbformat": 4,
 "nbformat_minor": 4
}
