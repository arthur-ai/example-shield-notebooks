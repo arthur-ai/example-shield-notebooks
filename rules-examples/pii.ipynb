{
 "cells": [
  {
   "cell_type": "markdown",
   "metadata": {},
   "source": [
    "# PII Rule Demonstration Notebook\n",
    "\n",
    "In this notebook we will walk through the following steps in order to demonstrate what the Shield PII Data Rule is capable of.\n",
    "\n",
    "**Prerequisites:** \n",
    "- Shield environment URL\n",
    "- API key\n",
    "\n",
    "**Steps**\n",
    "1. Create a new task for PII Rule evaluation \n",
    "2. Example dataset evaluation \n",
    "   1. Run the examples against a pre-configured Shield task from Step 1 \n",
    "   2. View our results "
   ]
  },
  {
   "cell_type": "markdown",
   "metadata": {},
   "source": [
    "#### Configure Shield Test Env Details"
   ]
  },
  {
   "cell_type": "code",
   "execution_count": null,
   "metadata": {},
   "outputs": [],
   "source": [
    "%pip install datasets\n",
    "%pip install scikit-learn\n",
    "%pip install matplotlib"
   ]
  },
  {
   "cell_type": "code",
   "execution_count": null,
   "metadata": {},
   "outputs": [],
   "source": [
    "import pandas as pd\n",
    "from os.path import abspath, join\n",
    "import sys\n",
    "from datetime import datetime\n",
    "\n",
    "utils_path = abspath(join('..', 'utils'))\n",
    "if utils_path not in sys.path:\n",
    "    sys.path.append(utils_path)\n",
    "\n",
    "from shield_utils import setup_env, set_up_task_and_rule, run_shield_evaluation, archive_task\n",
    "from analysis_utils import print_performance_metrics, granular_result_dfs\n",
    "\n",
    "\n",
    "pd.set_option('display.max_colwidth', None)\n",
    "pd.set_option('display.max_rows', None)\n",
    "\n",
    "setup_env(base_url=\"<URL>\", api_key=\"<API_KEY>\")"
   ]
  },
  {
   "cell_type": "markdown",
   "metadata": {},
   "source": [
    "---\n",
    "### 1.Setup: Configure a test task and enable PII Rule \n",
    "\n",
    "In this example, we leave all the categories enabled by default. However for your use case, you may want to omit some of the more sensitive PII categories, such as names or date-time. You can do this by adding the categories you would like to allow to the `disabled_pii_entities` list in the `config` json - see https://shield.docs.arthur.ai/docs/pii-leakage and https://shield.docs.arthur.ai/docs/rule-configuration-guide#pii-rule for more information."
   ]
  },
  {
   "cell_type": "code",
   "execution_count": null,
   "metadata": {},
   "outputs": [],
   "source": [
    "pii_rule_no_config = {\n",
    "    \"name\": \"PII Rule\",\n",
    "    \"type\": \"PIIDataRule\",\n",
    "    \"apply_to_prompt\": True,\n",
    "    \"apply_to_response\": True,\n",
    "    \"config\": {} \n",
    "}\n",
    "\n",
    "# Create task, archive all rules except the one we pass, create the rule we pass \n",
    "pii_rule, pii_task = set_up_task_and_rule(pii_rule_no_config, \"pii-task-example-notebook\")\n",
    "\n",
    "print(pii_rule)\n",
    "print(pii_task)"
   ]
  },
  {
   "cell_type": "markdown",
   "metadata": {},
   "source": [
    "---\n",
    "### 2. Examples"
   ]
  },
  {
   "cell_type": "code",
   "execution_count": 5,
   "metadata": {},
   "outputs": [],
   "source": [
    "pii_examples = pd.read_csv(\"./datasets/pii_examples.csv\")"
   ]
  },
  {
   "cell_type": "markdown",
   "metadata": {},
   "source": [
    "#### 2.1  Run the examples against a pre-configured Shield task from Step 1 "
   ]
  },
  {
   "cell_type": "code",
   "execution_count": 6,
   "metadata": {},
   "outputs": [],
   "source": [
    "pii_examples = run_shield_evaluation(pii_examples, pii_task, pii_rule)\n",
    "current_datetime = datetime.now().strftime(\"%Y-%m-%d_%H-%M-%S\")\n",
    "pii_examples.to_csv(f\"./results/pii_examples_df_{current_datetime}.csv\")"
   ]
  },
  {
   "cell_type": "markdown",
   "metadata": {},
   "source": [
    "#### 2.2 Analyze Results"
   ]
  },
  {
   "cell_type": "code",
   "execution_count": null,
   "metadata": {},
   "outputs": [],
   "source": [
    "print_performance_metrics(pii_examples)\n",
    "\n",
    "arthur_fn, arthur_fp, arthur_tp, arthur_tn = granular_result_dfs(pii_examples)"
   ]
  },
  {
   "cell_type": "code",
   "execution_count": null,
   "metadata": {},
   "outputs": [],
   "source": [
    "arthur_tp"
   ]
  },
  {
   "cell_type": "markdown",
   "metadata": {},
   "source": [
    "---\n",
    "\n",
    "### 3. Delete Test Task"
   ]
  },
  {
   "cell_type": "code",
   "execution_count": null,
   "metadata": {},
   "outputs": [],
   "source": [
    "archive_task(pii_task[\"id\"])"
   ]
  }
 ],
 "metadata": {
  "kernelspec": {
   "display_name": "Python 3 (ipykernel)",
   "language": "python",
   "name": "python3"
  },
  "language_info": {
   "codemirror_mode": {
    "name": "ipython",
    "version": 3
   },
   "file_extension": ".py",
   "mimetype": "text/x-python",
   "name": "python",
   "nbconvert_exporter": "python",
   "pygments_lexer": "ipython3",
   "version": "3.12.4"
  }
 },
 "nbformat": 4,
 "nbformat_minor": 4
}
