{
 "cells": [
  {
   "cell_type": "markdown",
   "metadata": {},
   "source": [
    "# Toxicity Rule Demonstration Notebook (SEE WARNING BELOW)\n",
    "\n",
    "**WARNING: THIS NOTEBOOK TESTS TOXIC MESSAGES WHICH MAY CONTAIN VERY OFFENSIVE LANGUAGE. IT IS ONLY FOR DEMONSTRATION PURPOSES**\n",
    "\n",
    "In this notebook we will walk through the following steps in order to demonstrate what the Shield Toxicity Rule is capable of. Toxicity prevents against: \n",
    "\n",
    "- Harmful or Illegal Requests\n",
    "- Profanity \n",
    "- Toxic tone  \n",
    "\n",
    "Pre  Requisites: \n",
    "- A Shield env and API key.\n",
    "\n",
    "1. Create a new task for Toxicity evaluation \n",
    "2. Arthur Benchmark dataset evaluation \n",
    "   1.  Run the examples against a pre-configured Shield task from Step 1 \n",
    "   2. Visualize our results - gain a better understanding of various result scores and determine best treshold to use \n",
    "3. Additional examples evaluation using datasets referenced in our documentation: https://shield.docs.arthur.ai/docs/toxicity#benchmarks\n",
    "   1. Run the examples against a pre-configured Shield task from Step 1 \n",
    "   2. Visualize our results - gain a better understanding of various result scores and determine best treshold to use "
   ]
  },
  {
   "cell_type": "markdown",
   "metadata": {},
   "source": [
    "----\n",
    "#### Configure Shield Test Env Details"
   ]
  },
  {
   "cell_type": "code",
   "execution_count": 1,
   "metadata": {},
   "outputs": [
    {
     "name": "stdout",
     "output_type": "stream",
     "text": [
      "Requirement already satisfied: datasets in /opt/homebrew/lib/python3.11/site-packages (2.18.0)\n",
      "Requirement already satisfied: filelock in /opt/homebrew/lib/python3.11/site-packages (from datasets) (3.13.1)\n",
      "Requirement already satisfied: numpy>=1.17 in /opt/homebrew/lib/python3.11/site-packages (from datasets) (1.26.4)\n",
      "Requirement already satisfied: pyarrow>=12.0.0 in /opt/homebrew/lib/python3.11/site-packages (from datasets) (15.0.2)\n",
      "Requirement already satisfied: pyarrow-hotfix in /opt/homebrew/lib/python3.11/site-packages (from datasets) (0.6)\n",
      "Requirement already satisfied: dill<0.3.9,>=0.3.0 in /opt/homebrew/lib/python3.11/site-packages (from datasets) (0.3.8)\n",
      "Requirement already satisfied: pandas in /opt/homebrew/lib/python3.11/site-packages (from datasets) (2.2.1)\n",
      "Requirement already satisfied: requests>=2.19.0 in /opt/homebrew/lib/python3.11/site-packages (from datasets) (2.31.0)\n",
      "Requirement already satisfied: tqdm>=4.62.1 in /opt/homebrew/lib/python3.11/site-packages (from datasets) (4.66.2)\n",
      "Requirement already satisfied: xxhash in /opt/homebrew/lib/python3.11/site-packages (from datasets) (3.4.1)\n",
      "Requirement already satisfied: multiprocess in /opt/homebrew/lib/python3.11/site-packages (from datasets) (0.70.16)\n",
      "Requirement already satisfied: fsspec<=2024.2.0,>=2023.1.0 in /opt/homebrew/lib/python3.11/site-packages (from fsspec[http]<=2024.2.0,>=2023.1.0->datasets) (2024.2.0)\n",
      "Requirement already satisfied: aiohttp in /opt/homebrew/lib/python3.11/site-packages (from datasets) (3.9.3)\n",
      "Requirement already satisfied: huggingface-hub>=0.19.4 in /opt/homebrew/lib/python3.11/site-packages (from datasets) (0.21.4)\n",
      "Requirement already satisfied: packaging in /Users/calebsarnecki/Library/Python/3.11/lib/python/site-packages (from datasets) (23.2)\n",
      "Requirement already satisfied: pyyaml>=5.1 in /opt/homebrew/lib/python3.11/site-packages (from datasets) (6.0.1)\n",
      "Requirement already satisfied: aiosignal>=1.1.2 in /opt/homebrew/lib/python3.11/site-packages (from aiohttp->datasets) (1.3.1)\n",
      "Requirement already satisfied: attrs>=17.3.0 in /opt/homebrew/lib/python3.11/site-packages (from aiohttp->datasets) (23.2.0)\n",
      "Requirement already satisfied: frozenlist>=1.1.1 in /opt/homebrew/lib/python3.11/site-packages (from aiohttp->datasets) (1.4.1)\n",
      "Requirement already satisfied: multidict<7.0,>=4.5 in /opt/homebrew/lib/python3.11/site-packages (from aiohttp->datasets) (6.0.5)\n",
      "Requirement already satisfied: yarl<2.0,>=1.0 in /opt/homebrew/lib/python3.11/site-packages (from aiohttp->datasets) (1.9.4)\n",
      "Requirement already satisfied: typing-extensions>=3.7.4.3 in /opt/homebrew/lib/python3.11/site-packages (from huggingface-hub>=0.19.4->datasets) (4.10.0)\n",
      "Requirement already satisfied: charset-normalizer<4,>=2 in /opt/homebrew/lib/python3.11/site-packages (from requests>=2.19.0->datasets) (3.3.2)\n",
      "Requirement already satisfied: idna<4,>=2.5 in /opt/homebrew/lib/python3.11/site-packages (from requests>=2.19.0->datasets) (3.6)\n",
      "Requirement already satisfied: urllib3<3,>=1.21.1 in /opt/homebrew/lib/python3.11/site-packages (from requests>=2.19.0->datasets) (2.2.1)\n",
      "Requirement already satisfied: certifi>=2017.4.17 in /opt/homebrew/lib/python3.11/site-packages (from requests>=2.19.0->datasets) (2024.2.2)\n",
      "Requirement already satisfied: python-dateutil>=2.8.2 in /Users/calebsarnecki/Library/Python/3.11/lib/python/site-packages (from pandas->datasets) (2.9.0.post0)\n",
      "Requirement already satisfied: pytz>=2020.1 in /opt/homebrew/lib/python3.11/site-packages (from pandas->datasets) (2024.1)\n",
      "Requirement already satisfied: tzdata>=2022.7 in /opt/homebrew/lib/python3.11/site-packages (from pandas->datasets) (2024.1)\n",
      "Requirement already satisfied: six>=1.5 in /opt/homebrew/lib/python3.11/site-packages (from python-dateutil>=2.8.2->pandas->datasets) (1.16.0)\n",
      "\n",
      "\u001b[1m[\u001b[0m\u001b[34;49mnotice\u001b[0m\u001b[1;39;49m]\u001b[0m\u001b[39;49m A new release of pip is available: \u001b[0m\u001b[31;49m23.3.1\u001b[0m\u001b[39;49m -> \u001b[0m\u001b[32;49m24.0\u001b[0m\n",
      "\u001b[1m[\u001b[0m\u001b[34;49mnotice\u001b[0m\u001b[1;39;49m]\u001b[0m\u001b[39;49m To update, run: \u001b[0m\u001b[32;49mpython3.11 -m pip install --upgrade pip\u001b[0m\n",
      "Note: you may need to restart the kernel to use updated packages.\n",
      "Requirement already satisfied: scikit-learn in /opt/homebrew/lib/python3.11/site-packages (1.4.1.post1)\n",
      "Requirement already satisfied: numpy<2.0,>=1.19.5 in /opt/homebrew/lib/python3.11/site-packages (from scikit-learn) (1.26.4)\n",
      "Requirement already satisfied: scipy>=1.6.0 in /opt/homebrew/lib/python3.11/site-packages (from scikit-learn) (1.12.0)\n",
      "Requirement already satisfied: joblib>=1.2.0 in /opt/homebrew/lib/python3.11/site-packages (from scikit-learn) (1.3.2)\n",
      "Requirement already satisfied: threadpoolctl>=2.0.0 in /opt/homebrew/lib/python3.11/site-packages (from scikit-learn) (3.4.0)\n",
      "\n",
      "\u001b[1m[\u001b[0m\u001b[34;49mnotice\u001b[0m\u001b[1;39;49m]\u001b[0m\u001b[39;49m A new release of pip is available: \u001b[0m\u001b[31;49m23.3.1\u001b[0m\u001b[39;49m -> \u001b[0m\u001b[32;49m24.0\u001b[0m\n",
      "\u001b[1m[\u001b[0m\u001b[34;49mnotice\u001b[0m\u001b[1;39;49m]\u001b[0m\u001b[39;49m To update, run: \u001b[0m\u001b[32;49mpython3.11 -m pip install --upgrade pip\u001b[0m\n",
      "Note: you may need to restart the kernel to use updated packages.\n"
     ]
    },
    {
     "name": "stderr",
     "output_type": "stream",
     "text": [
      "/opt/homebrew/lib/python3.11/site-packages/tqdm/auto.py:21: TqdmWarning: IProgress not found. Please update jupyter and ipywidgets. See https://ipywidgets.readthedocs.io/en/stable/user_install.html\n",
      "  from .autonotebook import tqdm as notebook_tqdm\n"
     ]
    },
    {
     "data": {
      "text/plain": [
       "'Setup against: http://127.0.0.1:8000/api/v2'"
      ]
     },
     "execution_count": 1,
     "metadata": {},
     "output_type": "execute_result"
    }
   ],
   "source": [
    "%pip install datasets\n",
    "%pip install scikit-learn\n",
    "from datasets import load_dataset\n",
    "import pandas as pd\n",
    "from os.path import abspath, join\n",
    "import sys\n",
    "import random\n",
    "\n",
    "utils_path = abspath(join('..', 'utils'))\n",
    "if utils_path not in sys.path:\n",
    "    sys.path.append(utils_path)\n",
    "\n",
    "from shield_utils import create_task_rule, task_prompt_validation, archive_task_rule, get_task, create_task, setup_env\n",
    "from analysis_utils import plot_toxicity_scores_distrubution, print_performance_metrics, granular_result_dfs\n",
    "\n",
    "\n",
    "setup_env(base_url=\"<URL>\", api_key=\"<API_KEY>\")"
   ]
  },
  {
   "cell_type": "markdown",
   "metadata": {},
   "source": [
    "---\n",
    "#### 1. Create a new task for Toxicity evaluation "
   ]
  },
  {
   "cell_type": "code",
   "execution_count": 2,
   "metadata": {},
   "outputs": [
    {
     "name": "stdout",
     "output_type": "stream",
     "text": [
      "http://127.0.0.1:8000/api/v2\n",
      "a2adfa8d-0016-41cb-896c-4bc4561b14ea 744b0ab0-4038-426b-9953-e536ce17ed3e\n",
      "a2adfa8d-0016-41cb-896c-4bc4561b14ea 2b779667-0010-4bc3-b47c-05d35017c327\n",
      "a2adfa8d-0016-41cb-896c-4bc4561b14ea 9720dd66-b8b4-4e01-a0b2-d36cf5b10da4\n",
      "{'id': 'a2adfa8d-0016-41cb-896c-4bc4561b14ea', 'name': 'toxicity-test-task-933', 'created_at': 1711727669745, 'updated_at': 1711727669745, 'rules': [{'id': '744b0ab0-4038-426b-9953-e536ce17ed3e', 'name': 'Toxicity Rule', 'type': 'ToxicityRule', 'apply_to_prompt': True, 'apply_to_response': True, 'enabled': True, 'scope': 'default', 'created_at': 1711389625593, 'updated_at': 1711389625593, 'config': {'threshold': 0.1}}, {'id': '2b779667-0010-4bc3-b47c-05d35017c327', 'name': 'PII Rule w/ Config', 'type': 'PIIDataRule', 'apply_to_prompt': True, 'apply_to_response': True, 'enabled': True, 'scope': 'default', 'created_at': 1711028989417, 'updated_at': 1711028989417, 'config': {'disabled_pii_entities': ['EMAIL_ADDRESS', 'PHONE_NUMBER'], 'confidence_threshold': 0.5, 'allow_list': ['arthur.ai', 'Arthur']}}, {'id': '9720dd66-b8b4-4e01-a0b2-d36cf5b10da4', 'name': 'Legacy PII Rule', 'type': 'PIIDataRule', 'apply_to_prompt': True, 'apply_to_response': True, 'enabled': True, 'scope': 'default', 'created_at': 1711028861142, 'updated_at': 1711028861142, 'config': {'disabled_pii_entities': [], 'confidence_threshold': 0.0, 'allow_list': []}}]}\n",
      "{'id': '422d41c3-f1e0-4042-8469-6f65031c1349', 'name': 'Toxicity Rule (0.75)', 'type': 'ToxicityRule', 'apply_to_prompt': True, 'apply_to_response': True, 'enabled': True, 'scope': 'task', 'created_at': 1711727669895, 'updated_at': 1711727669895, 'config': {'threshold': 0.75}}\n"
     ]
    }
   ],
   "source": [
    "toxicity_rule_config=  {\n",
    "    \"name\": \"Toxicity Rule (0.75)\",\n",
    "    \"type\": \"ToxicityRule\",\n",
    "    \"apply_to_prompt\": True,\n",
    "    \"apply_to_response\": True,\n",
    "    \"config\": {\n",
    "        \"threshold\": 0.75\n",
    "    }\n",
    "}\n",
    "\n",
    "# 1 - Create Task \n",
    "random_number = random.randint(1, 1000)\n",
    "task_name = f\"toxicity-test-task-{random_number}\"\n",
    "task = create_task(task_name)\n",
    "\n",
    "# 2 - Disable all rules (if there any default)\n",
    "for rule in task[\"rules\"]:\n",
    "    archive_task_rule(task[\"id\"], rule[\"id\"])\n",
    "    # update_task_rule(task[\"id\"], rule[\"id\"], enable=False)\n",
    "\n",
    "\n",
    "# 3 - Create Rule \n",
    "toxicity_rule = create_task_rule(task_id=task[\"id\"], rule_config=toxicity_rule_config)\n",
    "\n",
    "print(task)\n",
    "print(toxicity_rule)"
   ]
  },
  {
   "cell_type": "markdown",
   "metadata": {},
   "source": [
    "---\n",
    "### 2. Arthur Benchmark dataset evaluation \n"
   ]
  },
  {
   "cell_type": "code",
   "execution_count": 3,
   "metadata": {},
   "outputs": [],
   "source": [
    "toxicity_combined_arthur_df = pd.read_csv(\"./arthur_benchmark_datasets/toxicitycombined.csv\")"
   ]
  },
  {
   "cell_type": "markdown",
   "metadata": {},
   "source": [
    "#### 2.1  Run the examples against a pre-configured Shield task from Step 1 "
   ]
  },
  {
   "cell_type": "code",
   "execution_count": 4,
   "metadata": {},
   "outputs": [],
   "source": [
    "from datetime import datetime\n",
    "\n",
    "task_id = task[\"id\"]\n",
    "toxicity_rule_to_evaluate = toxicity_rule[\"id\"]\n",
    "\n",
    "task = get_task(task_id)\n",
    "\n",
    "for rule in task[\"rules\"]:\n",
    "    if (rule[\"enabled\"]) & (rule[\"type\"] != \"ToxicityRule\"):\n",
    "        update_task_rule(task[\"id\"], rule[\"id\"], False)\n",
    "\n",
    "current_datetime = datetime.now().strftime(\"%Y-%m-%d %H:%M:%S\")\n",
    "\n",
    "def shield_toxicity_evaluation(row): \n",
    "    shield_result = task_prompt_validation(row.text, 1, task_id)\n",
    "    \n",
    "    for rule_result in shield_result[\"rule_results\"]:\n",
    "        if rule_result[\"id\"] == toxicity_rule_to_evaluate:\n",
    "            result = rule_result[\"result\"]\n",
    "            score = rule_result[\"details\"][\"toxicity_score\"]\n",
    "\n",
    "            if result == \"Pass\": \n",
    "                result = False\n",
    "            else:\n",
    "                result = True\n",
    "\n",
    "            return result, score\n",
    "\n",
    "toxicity_combined_arthur_df[[\"shield_result\", \"shield_score\"]] = toxicity_combined_arthur_df.apply(shield_toxicity_evaluation, axis=1).apply(pd.Series)\n",
    "task_name = task[\"name\"]\n",
    "# Save to CSV to avoid having to run this again to view results \n",
    "toxicity_combined_arthur_df.to_csv(f\"./results/toxicity_combined_arthur_df_results_{task_name}_{current_datetime}.csv\")"
   ]
  },
  {
   "cell_type": "markdown",
   "metadata": {},
   "source": [
    "#### 2.2 Analyze Results"
   ]
  },
  {
   "cell_type": "code",
   "execution_count": 5,
   "metadata": {},
   "outputs": [
    {
     "data": {
      "image/png": "[encoded data removed]",
      "text/plain": [
       "<Figure size 640x480 with 1 Axes>"
      ]
     },
     "metadata": {},
     "output_type": "display_data"
    }
   ],
   "source": [
    "plot_toxicity_scores_distrubution(toxicity_combined_arthur_df)"
   ]
  },
  {
   "cell_type": "markdown",
   "metadata": {},
   "source": [
    "#### Dynamic analysis of performance metrics using various thresholds"
   ]
  },
  {
   "cell_type": "code",
   "execution_count": null,
   "metadata": {},
   "outputs": [],
   "source": [
    "pd.set_option('display.max_colwidth', None)\n",
    "pd.set_option('display.max_rows', None)\n",
    "\n",
    "def evaluate_threshold(row, test_threshold):\n",
    "    if row['shield_score'] > test_threshold:\n",
    "        return True\n",
    "    else:\n",
    "        return False\n",
    "\n",
    "thresholds = [0.5, 0.6, 0.7, 0.75, 0.8, 0.85, 0.9, 0.95]\n",
    "\n",
    "for threshold in thresholds:\n",
    "    mixed_toxicity_df_dynamic = toxicity_combined_arthur_df.copy()\n",
    "    mixed_toxicity_df_dynamic[\"shield_result\"] = mixed_toxicity_df_dynamic.apply(evaluate_threshold, args=(threshold,), axis=1)\n",
    "    print(f\"----Test Threshold {threshold}----\")\n",
    "    print_performance_metrics(mixed_toxicity_df_dynamic)"
   ]
  },
  {
   "cell_type": "markdown",
   "metadata": {},
   "source": [
    "#### Inspect results at various thresholds "
   ]
  },
  {
   "cell_type": "code",
   "execution_count": 8,
   "metadata": {},
   "outputs": [],
   "source": [
    "inspect_threshold = 0.75\n",
    "\n",
    "toxicity_combined_arthur_df_dynamic = toxicity_combined_arthur_df.copy()\n",
    "\n",
    "toxicity_combined_arthur_df_dynamic[\"shield_result\"] = toxicity_combined_arthur_df_dynamic.apply(evaluate_threshold, args=(inspect_threshold,), axis=1)\n",
    "\n",
    "arthur_fn, arthur_fp, arthur_tp, arthur_tn = granular_result_dfs(toxicity_combined_arthur_df_dynamic)"
   ]
  },
  {
   "cell_type": "markdown",
   "metadata": {},
   "source": [
    "---\n",
    "### 3. Load and sample benchmark datasets from https://shield.docs.arthur.ai/docs/toxicity#benchmarks\n",
    "\n",
    "**DISCLAIMER**: This is for demonstration and guidance purposes only and does not reflect the performance of the model behind the Shield score, as sampling techniques may not be optimal. "
   ]
  },
  {
   "cell_type": "code",
   "execution_count": 15,
   "metadata": {},
   "outputs": [],
   "source": [
    "toxicity_lmsys = load_dataset(\"lmsys/toxic-chat\", \"toxicchat0124\")\n",
    "toxicity_lmsys = pd.DataFrame(toxicity_lmsys[\"test\"])\n",
    "\n",
    "toxicity_wiki_toxic = load_dataset(\"OxAISH-AL-LLM/wiki_toxic\")\n",
    "toxicity_wiki_toxic = pd.DataFrame(toxicity_wiki_toxic[\"test\"])\n",
    "\n",
    "toxicity_harmfulrequest = pd.read_csv(\"./datasets/toxicity_harmfulrequest.csv\")"
   ]
  },
  {
   "cell_type": "code",
   "execution_count": 16,
   "metadata": {},
   "outputs": [],
   "source": [
    "# Number of rows to pull from each toxicity type dataset. Will be evaluated against your Shield instance.\n",
    "number_samples_from_each = 50\n",
    "\n",
    "sample_lmsys = toxicity_lmsys.sample(frac=0.01, random_state=55).head(number_samples_from_each).dropna()\n",
    "sample_wiki_oxai = toxicity_wiki_toxic.sample(frac=0.01, random_state=55).head(number_samples_from_each).dropna()\n",
    "\n",
    "sample_harmfulrequest = toxicity_harmfulrequest.sample(frac=0.9, random_state=55).head(number_samples_from_each).dropna()"
   ]
  },
  {
   "cell_type": "code",
   "execution_count": 19,
   "metadata": {},
   "outputs": [],
   "source": [
    "sample_lmsys_df = sample_lmsys.loc[:, ['user_input', 'human_annotation']]\n",
    "sample_lmsys_df[\"source\"] = \"lmsys\"\n",
    "\n",
    "sample_wiki_oxai_df = sample_wiki_oxai.loc[:, ['comment_text', 'label']]\n",
    "\n",
    "sample_lmsys_df.rename(columns={'user_input': 'text', 'human_annotation': 'binary_label'}, inplace=True)\n",
    "sample_wiki_oxai_df.rename(columns={'comment_text': 'text'}, inplace=True)\n",
    "sample_wiki_oxai_df.rename(columns={'label': 'binary_label'}, inplace=True)\n",
    "sample_wiki_oxai_df['binary_label'] = sample_wiki_oxai_df['binary_label'].map({0: False, 1: True})\n",
    "sample_wiki_oxai_df[\"source\"] = \"wiki_oxai\"\n",
    "\n",
    "sample_harmfulrequest_df = sample_harmfulrequest.loc[:, ['text', 'binary_label', 'source']]\n",
    "\n",
    "mixed_toxicity_df = pd.concat([sample_lmsys_df, sample_wiki_oxai_df, sample_harmfulrequest_df], ignore_index=True)"
   ]
  },
  {
   "cell_type": "markdown",
   "metadata": {},
   "source": [
    "#### 3.1  Run the examples against a pre-configured Shield task from Step 1 "
   ]
  },
  {
   "cell_type": "code",
   "execution_count": 21,
   "metadata": {},
   "outputs": [],
   "source": [
    "from datetime import datetime\n",
    "\n",
    "task_id = task[\"id\"]\n",
    "toxicity_rule_to_evaluate = toxicity_rule[\"id\"]\n",
    "\n",
    "task = get_task(task_id)\n",
    "\n",
    "for rule in task[\"rules\"]:\n",
    "    if (rule[\"enabled\"]) & (rule[\"type\"] != \"ToxicityRule\"):\n",
    "        update_task_rule(task[\"id\"], rule[\"id\"], False)\n",
    "\n",
    "current_datetime = datetime.now().strftime(\"%Y-%m-%d %H:%M:%S\")\n",
    "\n",
    "def shield_toxicity_evaluation(row): \n",
    "    shield_result = task_prompt_validation(row.text, 1, task_id)\n",
    "    \n",
    "    for rule_result in shield_result[\"rule_results\"]:\n",
    "        if rule_result[\"id\"] == toxicity_rule_to_evaluate:\n",
    "            result = rule_result[\"result\"]\n",
    "            score = rule_result[\"details\"][\"toxicity_score\"]\n",
    "\n",
    "            if result == \"Pass\": \n",
    "                result = False\n",
    "            else:\n",
    "                result = True\n",
    "\n",
    "            return result, score\n",
    "\n",
    "mixed_toxicity_df[[\"shield_result\", \"shield_score\"]] = mixed_toxicity_df.apply(shield_toxicity_evaluation, axis=1).apply(pd.Series)\n",
    "task_name = task[\"name\"]\n",
    "# Save to CSV to avoid having to run this again to view results \n",
    "mixed_toxicity_df.to_csv(f\"./results/mixed_toxicity_df_{task_name}_{current_datetime}.csv\")"
   ]
  },
  {
   "cell_type": "markdown",
   "metadata": {},
   "source": [
    "#### 3.2 Analyze Results"
   ]
  },
  {
   "cell_type": "code",
   "execution_count": 22,
   "metadata": {},
   "outputs": [
    {
     "data": {
      "image/png": "[encoded data removed]",
      "text/plain": [
       "<Figure size 640x480 with 1 Axes>"
      ]
     },
     "metadata": {},
     "output_type": "display_data"
    }
   ],
   "source": [
    "plot_toxicity_scores_distrubution(mixed_toxicity_df)"
   ]
  },
  {
   "cell_type": "markdown",
   "metadata": {},
   "source": [
    "#### Dynamic analysis of performance metrics using various thresholds"
   ]
  },
  {
   "cell_type": "code",
   "execution_count": 23,
   "metadata": {},
   "outputs": [
    {
     "name": "stdout",
     "output_type": "stream",
     "text": [
      "----Test Threshold 0.5----\n"
     ]
    },
    {
     "ename": "ValueError",
     "evalue": "Mix of label input types (string and number)",
     "output_type": "error",
     "traceback": [
      "\u001b[0;31m---------------------------------------------------------------------------\u001b[0m",
      "\u001b[0;31mValueError\u001b[0m                                Traceback (most recent call last)",
      "\u001b[1;32m/Users/calebsarnecki/Desktop/arthur-repos/caleb-shield-testing/shield_demo_2/rules-examples/toxicity.ipynb Cell 25\u001b[0m line \u001b[0;36m1\n\u001b[1;32m     <a href='vscode-notebook-cell:/Users/calebsarnecki/Desktop/arthur-repos/caleb-shield-testing/shield_demo_2/rules-examples/toxicity.ipynb#Y106sZmlsZQ%3D%3D?line=13'>14</a>\u001b[0m mixed_toxicity_df_dynamic[\u001b[39m\"\u001b[39m\u001b[39mshield_result\u001b[39m\u001b[39m\"\u001b[39m] \u001b[39m=\u001b[39m mixed_toxicity_df_dynamic\u001b[39m.\u001b[39mapply(evaluate_threshold, args\u001b[39m=\u001b[39m(threshold,), axis\u001b[39m=\u001b[39m\u001b[39m1\u001b[39m)\n\u001b[1;32m     <a href='vscode-notebook-cell:/Users/calebsarnecki/Desktop/arthur-repos/caleb-shield-testing/shield_demo_2/rules-examples/toxicity.ipynb#Y106sZmlsZQ%3D%3D?line=14'>15</a>\u001b[0m \u001b[39mprint\u001b[39m(\u001b[39mf\u001b[39m\u001b[39m\"\u001b[39m\u001b[39m----Test Threshold \u001b[39m\u001b[39m{\u001b[39;00mthreshold\u001b[39m}\u001b[39;00m\u001b[39m----\u001b[39m\u001b[39m\"\u001b[39m)\n\u001b[0;32m---> <a href='vscode-notebook-cell:/Users/calebsarnecki/Desktop/arthur-repos/caleb-shield-testing/shield_demo_2/rules-examples/toxicity.ipynb#Y106sZmlsZQ%3D%3D?line=15'>16</a>\u001b[0m print_performance_metrics(mixed_toxicity_df_dynamic)\n",
      "File \u001b[0;32m~/Desktop/arthur-repos/caleb-shield-testing/shield_demo_2/utils/analysis_utils.py:16\u001b[0m, in \u001b[0;36mprint_performance_metrics\u001b[0;34m(df)\u001b[0m\n\u001b[1;32m     14\u001b[0m \u001b[39mdef\u001b[39;00m \u001b[39mprint_performance_metrics\u001b[39m(df):\n\u001b[1;32m     15\u001b[0m     accuracy \u001b[39m=\u001b[39m accuracy_score(df[\u001b[39m\"\u001b[39m\u001b[39mlabel\u001b[39m\u001b[39m\"\u001b[39m], df[\u001b[39m\"\u001b[39m\u001b[39mshield_result\u001b[39m\u001b[39m\"\u001b[39m])\n\u001b[0;32m---> 16\u001b[0m     precision \u001b[39m=\u001b[39m precision_score(df[\u001b[39m\"\u001b[39;49m\u001b[39mlabel\u001b[39;49m\u001b[39m\"\u001b[39;49m], df[\u001b[39m\"\u001b[39;49m\u001b[39mshield_result\u001b[39;49m\u001b[39m\"\u001b[39;49m])\n\u001b[1;32m     17\u001b[0m     recall \u001b[39m=\u001b[39m recall_score(df[\u001b[39m\"\u001b[39m\u001b[39mlabel\u001b[39m\u001b[39m\"\u001b[39m], df[\u001b[39m\"\u001b[39m\u001b[39mshield_result\u001b[39m\u001b[39m\"\u001b[39m])\n\u001b[1;32m     18\u001b[0m     f1 \u001b[39m=\u001b[39m f1_score(df[\u001b[39m\"\u001b[39m\u001b[39mlabel\u001b[39m\u001b[39m\"\u001b[39m], df[\u001b[39m\"\u001b[39m\u001b[39mshield_result\u001b[39m\u001b[39m\"\u001b[39m])\n",
      "File \u001b[0;32m/opt/homebrew/lib/python3.11/site-packages/sklearn/utils/_param_validation.py:213\u001b[0m, in \u001b[0;36mvalidate_params.<locals>.decorator.<locals>.wrapper\u001b[0;34m(*args, **kwargs)\u001b[0m\n\u001b[1;32m    207\u001b[0m \u001b[39mtry\u001b[39;00m:\n\u001b[1;32m    208\u001b[0m     \u001b[39mwith\u001b[39;00m config_context(\n\u001b[1;32m    209\u001b[0m         skip_parameter_validation\u001b[39m=\u001b[39m(\n\u001b[1;32m    210\u001b[0m             prefer_skip_nested_validation \u001b[39mor\u001b[39;00m global_skip_validation\n\u001b[1;32m    211\u001b[0m         )\n\u001b[1;32m    212\u001b[0m     ):\n\u001b[0;32m--> 213\u001b[0m         \u001b[39mreturn\u001b[39;00m func(\u001b[39m*\u001b[39;49margs, \u001b[39m*\u001b[39;49m\u001b[39m*\u001b[39;49mkwargs)\n\u001b[1;32m    214\u001b[0m \u001b[39mexcept\u001b[39;00m InvalidParameterError \u001b[39mas\u001b[39;00m e:\n\u001b[1;32m    215\u001b[0m     \u001b[39m# When the function is just a wrapper around an estimator, we allow\u001b[39;00m\n\u001b[1;32m    216\u001b[0m     \u001b[39m# the function to delegate validation to the estimator, but we replace\u001b[39;00m\n\u001b[1;32m    217\u001b[0m     \u001b[39m# the name of the estimator by the name of the function in the error\u001b[39;00m\n\u001b[1;32m    218\u001b[0m     \u001b[39m# message to avoid confusion.\u001b[39;00m\n\u001b[1;32m    219\u001b[0m     msg \u001b[39m=\u001b[39m re\u001b[39m.\u001b[39msub(\n\u001b[1;32m    220\u001b[0m         \u001b[39mr\u001b[39m\u001b[39m\"\u001b[39m\u001b[39mparameter of \u001b[39m\u001b[39m\\\u001b[39m\u001b[39mw+ must be\u001b[39m\u001b[39m\"\u001b[39m,\n\u001b[1;32m    221\u001b[0m         \u001b[39mf\u001b[39m\u001b[39m\"\u001b[39m\u001b[39mparameter of \u001b[39m\u001b[39m{\u001b[39;00mfunc\u001b[39m.\u001b[39m\u001b[39m__qualname__\u001b[39m\u001b[39m}\u001b[39;00m\u001b[39m must be\u001b[39m\u001b[39m\"\u001b[39m,\n\u001b[1;32m    222\u001b[0m         \u001b[39mstr\u001b[39m(e),\n\u001b[1;32m    223\u001b[0m     )\n",
      "File \u001b[0;32m/opt/homebrew/lib/python3.11/site-packages/sklearn/metrics/_classification.py:2182\u001b[0m, in \u001b[0;36mprecision_score\u001b[0;34m(y_true, y_pred, labels, pos_label, average, sample_weight, zero_division)\u001b[0m\n\u001b[1;32m   2015\u001b[0m \u001b[39m@validate_params\u001b[39m(\n\u001b[1;32m   2016\u001b[0m     {\n\u001b[1;32m   2017\u001b[0m         \u001b[39m\"\u001b[39m\u001b[39my_true\u001b[39m\u001b[39m\"\u001b[39m: [\u001b[39m\"\u001b[39m\u001b[39marray-like\u001b[39m\u001b[39m\"\u001b[39m, \u001b[39m\"\u001b[39m\u001b[39msparse matrix\u001b[39m\u001b[39m\"\u001b[39m],\n\u001b[0;32m   (...)\u001b[0m\n\u001b[1;32m   2042\u001b[0m     zero_division\u001b[39m=\u001b[39m\u001b[39m\"\u001b[39m\u001b[39mwarn\u001b[39m\u001b[39m\"\u001b[39m,\n\u001b[1;32m   2043\u001b[0m ):\n\u001b[1;32m   2044\u001b[0m \u001b[39m    \u001b[39m\u001b[39m\"\"\"Compute the precision.\u001b[39;00m\n\u001b[1;32m   2045\u001b[0m \n\u001b[1;32m   2046\u001b[0m \u001b[39m    The precision is the ratio ``tp / (tp + fp)`` where ``tp`` is the number of\u001b[39;00m\n\u001b[0;32m   (...)\u001b[0m\n\u001b[1;32m   2180\u001b[0m \u001b[39m    array([0.5, 1. , 1. ])\u001b[39;00m\n\u001b[1;32m   2181\u001b[0m \u001b[39m    \"\"\"\u001b[39;00m\n\u001b[0;32m-> 2182\u001b[0m     p, _, _, _ \u001b[39m=\u001b[39m precision_recall_fscore_support(\n\u001b[1;32m   2183\u001b[0m         y_true,\n\u001b[1;32m   2184\u001b[0m         y_pred,\n\u001b[1;32m   2185\u001b[0m         labels\u001b[39m=\u001b[39;49mlabels,\n\u001b[1;32m   2186\u001b[0m         pos_label\u001b[39m=\u001b[39;49mpos_label,\n\u001b[1;32m   2187\u001b[0m         average\u001b[39m=\u001b[39;49maverage,\n\u001b[1;32m   2188\u001b[0m         warn_for\u001b[39m=\u001b[39;49m(\u001b[39m\"\u001b[39;49m\u001b[39mprecision\u001b[39;49m\u001b[39m\"\u001b[39;49m,),\n\u001b[1;32m   2189\u001b[0m         sample_weight\u001b[39m=\u001b[39;49msample_weight,\n\u001b[1;32m   2190\u001b[0m         zero_division\u001b[39m=\u001b[39;49mzero_division,\n\u001b[1;32m   2191\u001b[0m     )\n\u001b[1;32m   2192\u001b[0m     \u001b[39mreturn\u001b[39;00m p\n",
      "File \u001b[0;32m/opt/homebrew/lib/python3.11/site-packages/sklearn/utils/_param_validation.py:186\u001b[0m, in \u001b[0;36mvalidate_params.<locals>.decorator.<locals>.wrapper\u001b[0;34m(*args, **kwargs)\u001b[0m\n\u001b[1;32m    184\u001b[0m global_skip_validation \u001b[39m=\u001b[39m get_config()[\u001b[39m\"\u001b[39m\u001b[39mskip_parameter_validation\u001b[39m\u001b[39m\"\u001b[39m]\n\u001b[1;32m    185\u001b[0m \u001b[39mif\u001b[39;00m global_skip_validation:\n\u001b[0;32m--> 186\u001b[0m     \u001b[39mreturn\u001b[39;00m func(\u001b[39m*\u001b[39;49margs, \u001b[39m*\u001b[39;49m\u001b[39m*\u001b[39;49mkwargs)\n\u001b[1;32m    188\u001b[0m func_sig \u001b[39m=\u001b[39m signature(func)\n\u001b[1;32m    190\u001b[0m \u001b[39m# Map *args/**kwargs to the function signature\u001b[39;00m\n",
      "File \u001b[0;32m/opt/homebrew/lib/python3.11/site-packages/sklearn/metrics/_classification.py:1767\u001b[0m, in \u001b[0;36mprecision_recall_fscore_support\u001b[0;34m(y_true, y_pred, beta, labels, pos_label, average, warn_for, sample_weight, zero_division)\u001b[0m\n\u001b[1;32m   1604\u001b[0m \u001b[39m\u001b[39m\u001b[39m\"\"\"Compute precision, recall, F-measure and support for each class.\u001b[39;00m\n\u001b[1;32m   1605\u001b[0m \n\u001b[1;32m   1606\u001b[0m \u001b[39mThe precision is the ratio ``tp / (tp + fp)`` where ``tp`` is the number of\u001b[39;00m\n\u001b[0;32m   (...)\u001b[0m\n\u001b[1;32m   1764\u001b[0m \u001b[39m array([2, 2, 2]))\u001b[39;00m\n\u001b[1;32m   1765\u001b[0m \u001b[39m\"\"\"\u001b[39;00m\n\u001b[1;32m   1766\u001b[0m _check_zero_division(zero_division)\n\u001b[0;32m-> 1767\u001b[0m labels \u001b[39m=\u001b[39m _check_set_wise_labels(y_true, y_pred, average, labels, pos_label)\n\u001b[1;32m   1769\u001b[0m \u001b[39m# Calculate tp_sum, pred_sum, true_sum ###\u001b[39;00m\n\u001b[1;32m   1770\u001b[0m samplewise \u001b[39m=\u001b[39m average \u001b[39m==\u001b[39m \u001b[39m\"\u001b[39m\u001b[39msamples\u001b[39m\u001b[39m\"\u001b[39m\n",
      "File \u001b[0;32m/opt/homebrew/lib/python3.11/site-packages/sklearn/metrics/_classification.py:1542\u001b[0m, in \u001b[0;36m_check_set_wise_labels\u001b[0;34m(y_true, y_pred, average, labels, pos_label)\u001b[0m\n\u001b[1;32m   1539\u001b[0m y_type, y_true, y_pred \u001b[39m=\u001b[39m _check_targets(y_true, y_pred)\n\u001b[1;32m   1540\u001b[0m \u001b[39m# Convert to Python primitive type to avoid NumPy type / Python str\u001b[39;00m\n\u001b[1;32m   1541\u001b[0m \u001b[39m# comparison. See https://github.com/numpy/numpy/issues/6784\u001b[39;00m\n\u001b[0;32m-> 1542\u001b[0m present_labels \u001b[39m=\u001b[39m unique_labels(y_true, y_pred)\u001b[39m.\u001b[39mtolist()\n\u001b[1;32m   1543\u001b[0m \u001b[39mif\u001b[39;00m average \u001b[39m==\u001b[39m \u001b[39m\"\u001b[39m\u001b[39mbinary\u001b[39m\u001b[39m\"\u001b[39m:\n\u001b[1;32m   1544\u001b[0m     \u001b[39mif\u001b[39;00m y_type \u001b[39m==\u001b[39m \u001b[39m\"\u001b[39m\u001b[39mbinary\u001b[39m\u001b[39m\"\u001b[39m:\n",
      "File \u001b[0;32m/opt/homebrew/lib/python3.11/site-packages/sklearn/utils/multiclass.py:116\u001b[0m, in \u001b[0;36munique_labels\u001b[0;34m(*ys)\u001b[0m\n\u001b[1;32m    114\u001b[0m \u001b[39m# Check that we don't mix string type with number type\u001b[39;00m\n\u001b[1;32m    115\u001b[0m \u001b[39mif\u001b[39;00m \u001b[39mlen\u001b[39m(\u001b[39mset\u001b[39m(\u001b[39misinstance\u001b[39m(label, \u001b[39mstr\u001b[39m) \u001b[39mfor\u001b[39;00m label \u001b[39min\u001b[39;00m ys_labels)) \u001b[39m>\u001b[39m \u001b[39m1\u001b[39m:\n\u001b[0;32m--> 116\u001b[0m     \u001b[39mraise\u001b[39;00m \u001b[39mValueError\u001b[39;00m(\u001b[39m\"\u001b[39m\u001b[39mMix of label input types (string and number)\u001b[39m\u001b[39m\"\u001b[39m)\n\u001b[1;32m    118\u001b[0m \u001b[39mreturn\u001b[39;00m xp\u001b[39m.\u001b[39masarray(\u001b[39msorted\u001b[39m(ys_labels))\n",
      "\u001b[0;31mValueError\u001b[0m: Mix of label input types (string and number)"
     ]
    }
   ],
   "source": [
    "pd.set_option('display.max_colwidth', None)\n",
    "pd.set_option('display.max_rows', None)\n",
    "\n",
    "def evaluate_threshold(row, test_threshold):\n",
    "    if row['shield_score'] > test_threshold:\n",
    "        return True\n",
    "    else:\n",
    "        return False\n",
    "\n",
    "thresholds = [0.5, 0.6, 0.7, 0.75, 0.8, 0.85, 0.9, 0.95]\n",
    "\n",
    "for threshold in thresholds:\n",
    "    mixed_toxicity_df_dynamic = toxicity_combined_arthur_df.copy()\n",
    "    mixed_toxicity_df_dynamic[\"shield_result\"] = mixed_toxicity_df_dynamic.apply(evaluate_threshold, args=(threshold,), axis=1)\n",
    "    print(f\"----Test Threshold {threshold}----\")\n",
    "    print_performance_metrics(mixed_toxicity_df_dynamic)"
   ]
  },
  {
   "cell_type": "markdown",
   "metadata": {},
   "source": [
    "#### Inspect results at various thresholds "
   ]
  },
  {
   "cell_type": "code",
   "execution_count": 24,
   "metadata": {},
   "outputs": [],
   "source": [
    "inspect_threshold = 0.75\n",
    "\n",
    "toxicity_combined_arthur_df_dynamic = toxicity_combined_arthur_df.copy()\n",
    "\n",
    "toxicity_combined_arthur_df_dynamic[\"shield_result\"] = toxicity_combined_arthur_df_dynamic.apply(evaluate_threshold, args=(inspect_threshold,), axis=1)\n",
    "\n",
    "custom_fn, custom_fp, custom_tp, custom_tn = granular_result_dfs(toxicity_combined_arthur_df_dynamic)"
   ]
  },
  {
   "cell_type": "code",
   "execution_count": null,
   "metadata": {},
   "outputs": [],
   "source": []
  }
 ],
 "metadata": {
  "kernelspec": {
   "display_name": "Python 3 (ipykernel)",
   "language": "python",
   "name": "python3"
  },
  "language_info": {
   "codemirror_mode": {
    "name": "ipython",
    "version": 3
   },
   "file_extension": ".py",
   "mimetype": "text/x-python",
   "name": "python",
   "nbconvert_exporter": "python",
   "pygments_lexer": "ipython3",
   "version": "3.11.6"
  }
 },
 "nbformat": 4,
 "nbformat_minor": 2
}
