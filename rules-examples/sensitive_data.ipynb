{
 "cells": [
  {
   "cell_type": "markdown",
   "metadata": {},
   "source": [
    "# Sensitive Data Rule Demonstration Notebook\n",
    "\n",
    "In this notebook we will walk through the following steps in order to demonstrate what the Shield Sensitive Data Rule is capable of.\n",
    "\n",
    "Pre  Requisites: \n",
    "- A Shield env and API key.\n",
    "\n",
    "1. Create a new task for Sensitive Data evaluation \n",
    "2. Arthur Benchmark dataset evaluation (passwords dataset)\n",
    "   1. Run the examples against a pre-configured Shield task from Step 1 \n",
    "   2. View our results "
   ]
  },
  {
   "cell_type": "markdown",
   "metadata": {},
   "source": [
    "#### Configure Shield Test Env Details"
   ]
  },
  {
   "cell_type": "code",
   "execution_count": null,
   "metadata": {},
   "outputs": [],
   "source": [
    "%pip install datasets\n",
    "%pip install scikit-learn\n",
    "from datasets import load_dataset, concatenate_datasets\n",
    "import pandas as pd\n",
    "from os.path import abspath, join\n",
    "import sys\n",
    "from datetime import datetime \n",
    "\n",
    "utils_path = abspath(join('..', 'utils'))\n",
    "if utils_path not in sys.path:\n",
    "    sys.path.append(utils_path)\n",
    "\n",
    "from shield_utils import setup_env, set_up_task_and_rule, run_shield_evaluation\n",
    "from analysis_utils import print_performance_metrics, granular_result_dfs\n",
    "\n",
    "\n",
    "pd.set_option('display.max_colwidth', None)\n",
    "pd.set_option('display.max_rows', None)\n",
    "\n",
    "setup_env(base_url=\"<URL>\", api_key=\"<API_KEY>\")"
   ]
  },
  {
   "cell_type": "markdown",
   "metadata": {},
   "source": [
    "---\n",
    "### 1.Setup: Configure a test task and enable Sensitive Data Rule"
   ]
  },
  {
   "cell_type": "code",
   "execution_count": null,
   "metadata": {},
   "outputs": [],
   "source": [
    "sensitive_data_password_rule =  {\n",
    "    \"name\": \"Sensitive Data Password Rule\",\n",
    "    \"type\": \"ModelSensitiveDataRule\",\n",
    "    \"apply_to_prompt\": True,\n",
    "    \"apply_to_response\": False,\n",
    "    \"config\": {\n",
    "        \"examples\": [\n",
    "            {\n",
    "                \"example\": \"Hi, Your password 5d9kpQDXRiVf for our online therapy portal has been set successfully.\",\n",
    "                \"result\": True\n",
    "            },\n",
    "            {\n",
    "                \"example\": \"Mr. Conroy's password, h78WwcpT3s6B has leaked online.\",\n",
    "                \"result\": True\n",
    "            },\n",
    "                    {\n",
    "                \"example\": \"During this time, your login credentials Remington31 and VXBDni7EO5od will be reset..\",\n",
    "                \"result\": True\n",
    "            },\n",
    "                    {\n",
    "                \"example\": \"Hey Agnes, your login details for the upcoming clinical trial are as follows: IP: 73ac:d53c:f2bb:94a5:86f3:1dca:e1ec:2b4e, Password: WlBi79j58UsW.\",\n",
    "                \"result\": True\n",
    "            },\n",
    "                    {\n",
    "                \"example\": \"Can't access database for financial report. Hassie34's password last updated to mWGhCVGWuB8o.\",\n",
    "                \"result\": True\n",
    "            },\n",
    "                    {\n",
    "                \"example\": \"Linnea_OConnell, please submit your final Psychopharmacology thesis for review by 11/32.\",\n",
    "                \"result\": False\n",
    "            },\n",
    "                    {\n",
    "                \"example\": \"Dear client, thank you for your payment of NT$200 for our acupuncture services.\",\n",
    "                \"result\": False\n",
    "            },\n",
    "                    {\n",
    "                \"example\": \"Surely, Nolan and Sons would not want to restrict its healthcare services to people less than 91 years old years of age in the 40753 region?\",\n",
    "                \"result\": False\n",
    "            },\n",
    "                    {\n",
    "                \"example\": \"The name tag for the new staff member, Angel has arrived. You will find it in the Apt. 634.\",\n",
    "                \"result\": False\n",
    "            },\n",
    "                    {\n",
    "                \"example\": \"Your password has been reset.\",\n",
    "                \"result\": False\n",
    "            }\n",
    "        ]\n",
    "    }\n",
    "}\n",
    "\n",
    "# Create task, archive all rules except the one we pass, create the rule we pass \n",
    "sensitive_data_password_rule, sensitive_data_password_task = set_up_task_and_rule(sensitive_data_password_rule, \"sensitive-data-password-task\")\n",
    "\n",
    "print(sensitive_data_password_rule)\n",
    "print(sensitive_data_password_task)"
   ]
  },
  {
   "cell_type": "markdown",
   "metadata": {},
   "source": [
    "---\n",
    "### 2. Arthur benchmark dataset evaluation"
   ]
  },
  {
   "cell_type": "markdown",
   "metadata": {},
   "source": [
    "**REMOVE THE SECOND LINE TO RUN ENTIRE DATASET EVALUATION - IT WILL TAKE TIME AND CONSUME AOAI CREDITS**"
   ]
  },
  {
   "cell_type": "code",
   "execution_count": 3,
   "metadata": {},
   "outputs": [],
   "source": [
    "sensitive_data_password_benchmark_df_arthur = pd.read_csv(\"./arthur_benchmark_datasets/sensitive_data_password.csv\")\n",
    "\n",
    "sensitive_data_password_benchmark_df_arthur = sensitive_data_password_benchmark_df_arthur.head(10)"
   ]
  },
  {
   "cell_type": "markdown",
   "metadata": {},
   "source": [
    "#### 2.1  Run the examples against a pre-configured Shield task from Step 1 "
   ]
  },
  {
   "cell_type": "code",
   "execution_count": 6,
   "metadata": {},
   "outputs": [],
   "source": [
    "sensitive_data_password_benchmark_df_arthur = run_shield_evaluation(sensitive_data_password_benchmark_df_arthur, sensitive_data_password_task, sensitive_data_password_rule)\n",
    "current_datetime = datetime.now().strftime(\"%Y-%m-%d %H:%M:%S\")\n",
    "sensitive_data_password_benchmark_df_arthur.to_csv(f\"./results/sensitive_data_password_benchmark_df_arthur_{current_datetime}.csv\")"
   ]
  },
  {
   "cell_type": "markdown",
   "metadata": {},
   "source": [
    "#### 2.2 Analyze Results"
   ]
  },
  {
   "cell_type": "code",
   "execution_count": null,
   "metadata": {},
   "outputs": [],
   "source": [
    "print_performance_metrics(sensitive_data_password_benchmark_df_arthur)\n",
    "\n",
    "arthur_fn, arthur_fp, arthur_tp, arthur_tn = granular_result_dfs(sensitive_data_password_benchmark_df_arthur)"
   ]
  }
 ],
 "metadata": {
  "kernelspec": {
   "display_name": "Python 3",
   "language": "python",
   "name": "python3"
  },
  "language_info": {
   "codemirror_mode": {
    "name": "ipython",
    "version": 3
   },
   "file_extension": ".py",
   "mimetype": "text/x-python",
   "name": "python",
   "nbconvert_exporter": "python",
   "pygments_lexer": "ipython3",
   "version": "3.11.6"
  }
 },
 "nbformat": 4,
 "nbformat_minor": 2
}
