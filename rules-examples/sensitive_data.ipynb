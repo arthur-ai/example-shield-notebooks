{
 "cells": [
  {
   "cell_type": "markdown",
   "metadata": {},
   "source": [
    "# Sensitive Data Rule Demonstration Notebook\n",
    "\n",
    "In this notebook we will walk through the following steps in order to demonstrate what the Shield Sensitive Data Rule is capable of.\n",
    "\n",
    "Pre  Requisites: \n",
    "- A Shield env and API key.\n",
    "\n",
    "1. Create a new task for Sensitive Data evaluation \n",
    "2. Arthur Benchmark dataset evaluation (passwords dataset)\n",
    "   1. Run the examples against a pre-configured Shield task from Step 1 \n",
    "   2. View our results "
   ]
  },
  {
   "cell_type": "markdown",
   "metadata": {},
   "source": [
    "#### Configure Shield Test Env Details"
   ]
  },
  {
   "cell_type": "code",
   "execution_count": 4,
   "metadata": {},
   "outputs": [
    {
     "name": "stdout",
     "output_type": "stream",
     "text": [
      "Requirement already satisfied: datasets in /opt/homebrew/lib/python3.11/site-packages (2.18.0)\n",
      "Requirement already satisfied: filelock in /opt/homebrew/lib/python3.11/site-packages (from datasets) (3.13.1)\n",
      "Requirement already satisfied: numpy>=1.17 in /opt/homebrew/lib/python3.11/site-packages (from datasets) (1.26.4)\n",
      "Requirement already satisfied: pyarrow>=12.0.0 in /opt/homebrew/lib/python3.11/site-packages (from datasets) (15.0.2)\n",
      "Requirement already satisfied: pyarrow-hotfix in /opt/homebrew/lib/python3.11/site-packages (from datasets) (0.6)\n",
      "Requirement already satisfied: dill<0.3.9,>=0.3.0 in /opt/homebrew/lib/python3.11/site-packages (from datasets) (0.3.8)\n",
      "Requirement already satisfied: pandas in /opt/homebrew/lib/python3.11/site-packages (from datasets) (2.2.1)\n",
      "Requirement already satisfied: requests>=2.19.0 in /opt/homebrew/lib/python3.11/site-packages (from datasets) (2.31.0)\n",
      "Requirement already satisfied: tqdm>=4.62.1 in /opt/homebrew/lib/python3.11/site-packages (from datasets) (4.66.2)\n",
      "Requirement already satisfied: xxhash in /opt/homebrew/lib/python3.11/site-packages (from datasets) (3.4.1)\n",
      "Requirement already satisfied: multiprocess in /opt/homebrew/lib/python3.11/site-packages (from datasets) (0.70.16)\n",
      "Requirement already satisfied: fsspec<=2024.2.0,>=2023.1.0 in /opt/homebrew/lib/python3.11/site-packages (from fsspec[http]<=2024.2.0,>=2023.1.0->datasets) (2024.2.0)\n",
      "Requirement already satisfied: aiohttp in /opt/homebrew/lib/python3.11/site-packages (from datasets) (3.9.3)\n",
      "Requirement already satisfied: huggingface-hub>=0.19.4 in /opt/homebrew/lib/python3.11/site-packages (from datasets) (0.21.4)\n",
      "Requirement already satisfied: packaging in /Users/calebsarnecki/Library/Python/3.11/lib/python/site-packages (from datasets) (23.2)\n",
      "Requirement already satisfied: pyyaml>=5.1 in /opt/homebrew/lib/python3.11/site-packages (from datasets) (6.0.1)\n",
      "Requirement already satisfied: aiosignal>=1.1.2 in /opt/homebrew/lib/python3.11/site-packages (from aiohttp->datasets) (1.3.1)\n",
      "Requirement already satisfied: attrs>=17.3.0 in /opt/homebrew/lib/python3.11/site-packages (from aiohttp->datasets) (23.2.0)\n",
      "Requirement already satisfied: frozenlist>=1.1.1 in /opt/homebrew/lib/python3.11/site-packages (from aiohttp->datasets) (1.4.1)\n",
      "Requirement already satisfied: multidict<7.0,>=4.5 in /opt/homebrew/lib/python3.11/site-packages (from aiohttp->datasets) (6.0.5)\n",
      "Requirement already satisfied: yarl<2.0,>=1.0 in /opt/homebrew/lib/python3.11/site-packages (from aiohttp->datasets) (1.9.4)\n",
      "Requirement already satisfied: typing-extensions>=3.7.4.3 in /opt/homebrew/lib/python3.11/site-packages (from huggingface-hub>=0.19.4->datasets) (4.10.0)\n",
      "Requirement already satisfied: charset-normalizer<4,>=2 in /opt/homebrew/lib/python3.11/site-packages (from requests>=2.19.0->datasets) (3.3.2)\n",
      "Requirement already satisfied: idna<4,>=2.5 in /opt/homebrew/lib/python3.11/site-packages (from requests>=2.19.0->datasets) (3.6)\n",
      "Requirement already satisfied: urllib3<3,>=1.21.1 in /opt/homebrew/lib/python3.11/site-packages (from requests>=2.19.0->datasets) (2.2.1)\n",
      "Requirement already satisfied: certifi>=2017.4.17 in /opt/homebrew/lib/python3.11/site-packages (from requests>=2.19.0->datasets) (2024.2.2)\n",
      "Requirement already satisfied: python-dateutil>=2.8.2 in /Users/calebsarnecki/Library/Python/3.11/lib/python/site-packages (from pandas->datasets) (2.9.0.post0)\n",
      "Requirement already satisfied: pytz>=2020.1 in /opt/homebrew/lib/python3.11/site-packages (from pandas->datasets) (2024.1)\n",
      "Requirement already satisfied: tzdata>=2022.7 in /opt/homebrew/lib/python3.11/site-packages (from pandas->datasets) (2024.1)\n",
      "Requirement already satisfied: six>=1.5 in /opt/homebrew/lib/python3.11/site-packages (from python-dateutil>=2.8.2->pandas->datasets) (1.16.0)\n",
      "\n",
      "\u001b[1m[\u001b[0m\u001b[34;49mnotice\u001b[0m\u001b[1;39;49m]\u001b[0m\u001b[39;49m A new release of pip is available: \u001b[0m\u001b[31;49m23.3.1\u001b[0m\u001b[39;49m -> \u001b[0m\u001b[32;49m24.0\u001b[0m\n",
      "\u001b[1m[\u001b[0m\u001b[34;49mnotice\u001b[0m\u001b[1;39;49m]\u001b[0m\u001b[39;49m To update, run: \u001b[0m\u001b[32;49mpython3.11 -m pip install --upgrade pip\u001b[0m\n",
      "Note: you may need to restart the kernel to use updated packages.\n",
      "Requirement already satisfied: scikit-learn in /opt/homebrew/lib/python3.11/site-packages (1.4.1.post1)\n",
      "Requirement already satisfied: numpy<2.0,>=1.19.5 in /opt/homebrew/lib/python3.11/site-packages (from scikit-learn) (1.26.4)\n",
      "Requirement already satisfied: scipy>=1.6.0 in /opt/homebrew/lib/python3.11/site-packages (from scikit-learn) (1.12.0)\n",
      "Requirement already satisfied: joblib>=1.2.0 in /opt/homebrew/lib/python3.11/site-packages (from scikit-learn) (1.3.2)\n",
      "Requirement already satisfied: threadpoolctl>=2.0.0 in /opt/homebrew/lib/python3.11/site-packages (from scikit-learn) (3.4.0)\n",
      "\n",
      "\u001b[1m[\u001b[0m\u001b[34;49mnotice\u001b[0m\u001b[1;39;49m]\u001b[0m\u001b[39;49m A new release of pip is available: \u001b[0m\u001b[31;49m23.3.1\u001b[0m\u001b[39;49m -> \u001b[0m\u001b[32;49m24.0\u001b[0m\n",
      "\u001b[1m[\u001b[0m\u001b[34;49mnotice\u001b[0m\u001b[1;39;49m]\u001b[0m\u001b[39;49m To update, run: \u001b[0m\u001b[32;49mpython3.11 -m pip install --upgrade pip\u001b[0m\n",
      "Note: you may need to restart the kernel to use updated packages.\n"
     ]
    },
    {
     "data": {
      "text/plain": [
       "'Setup against: http://127.0.0.1:8000/api/v2'"
      ]
     },
     "execution_count": 4,
     "metadata": {},
     "output_type": "execute_result"
    }
   ],
   "source": [
    "%pip install datasets\n",
    "%pip install scikit-learn\n",
    "from datasets import load_dataset, concatenate_datasets\n",
    "import pandas as pd\n",
    "from os.path import abspath, join\n",
    "import sys\n",
    "from datetime import datetime \n",
    "\n",
    "utils_path = abspath(join('..', 'utils'))\n",
    "if utils_path not in sys.path:\n",
    "    sys.path.append(utils_path)\n",
    "\n",
    "from shield_utils import setup_env, set_up_task_and_rule, run_shield_evaluation\n",
    "from analysis_utils import print_performance_metrics, granular_result_dfs\n",
    "\n",
    "\n",
    "pd.set_option('display.max_colwidth', None)\n",
    "pd.set_option('display.max_rows', None)\n",
    "\n",
    "setup_env(base_url=\"<URL>\", api_key=\"<API_KEY>\")"
   ]
  },
  {
   "cell_type": "markdown",
   "metadata": {},
   "source": [
    "---\n",
    "### 1.Setup: Configure a test task and enable Prompt Injection Rule "
   ]
  },
  {
   "cell_type": "code",
   "execution_count": 5,
   "metadata": {},
   "outputs": [
    {
     "name": "stdout",
     "output_type": "stream",
     "text": [
      "{'id': '354affb5-7800-4513-97ed-2338441a0f27', 'name': 'Sensitive Data Password Rule', 'type': 'ModelSensitiveDataRule', 'apply_to_prompt': True, 'apply_to_response': False, 'enabled': True, 'scope': 'task', 'created_at': 1711815616210, 'updated_at': 1711815616210, 'config': {'examples': [{'example': 'Hi, Your password 5d9kpQDXRiVf for our online therapy portal has been set successfully.', 'result': True}, {'example': \"Mr. Conroy's password, h78WwcpT3s6B has leaked online.\", 'result': True}, {'example': 'During this time, your login credentials Remington31 and VXBDni7EO5od will be reset..', 'result': True}, {'example': 'Hey Agnes, your login details for the upcoming clinical trial are as follows: IP: 73ac:d53c:f2bb:94a5:86f3:1dca:e1ec:2b4e, Password: WlBi79j58UsW.', 'result': True}, {'example': \"Can't access database for financial report. Hassie34's password last updated to mWGhCVGWuB8o.\", 'result': True}, {'example': 'Linnea_OConnell, please submit your final Psychopharmacology thesis for review by 11/32.', 'result': False}, {'example': 'Dear client, thank you for your payment of NT$200 for our acupuncture services.', 'result': False}, {'example': 'Surely, Nolan and Sons would not want to restrict its healthcare services to people less than 91 years old years of age in the 40753 region?', 'result': False}, {'example': 'The name tag for the new staff member, Angel has arrived. You will find it in the Apt. 634.', 'result': False}, {'example': 'Your password has been reset.', 'result': False}]}}\n",
      "{'id': '91a578f0-4790-4302-8383-0dd121250ef6', 'name': 'sensitive-data-password-task-1473', 'created_at': 1711815616122, 'updated_at': 1711815616122, 'rules': [{'id': '354affb5-7800-4513-97ed-2338441a0f27', 'name': 'Sensitive Data Password Rule', 'type': 'ModelSensitiveDataRule', 'apply_to_prompt': True, 'apply_to_response': False, 'enabled': True, 'scope': 'task', 'created_at': 1711815616210, 'updated_at': 1711815616210, 'config': {'examples': [{'example': 'Hi, Your password 5d9kpQDXRiVf for our online therapy portal has been set successfully.', 'result': True}, {'example': \"Mr. Conroy's password, h78WwcpT3s6B has leaked online.\", 'result': True}, {'example': 'During this time, your login credentials Remington31 and VXBDni7EO5od will be reset..', 'result': True}, {'example': 'Hey Agnes, your login details for the upcoming clinical trial are as follows: IP: 73ac:d53c:f2bb:94a5:86f3:1dca:e1ec:2b4e, Password: WlBi79j58UsW.', 'result': True}, {'example': \"Can't access database for financial report. Hassie34's password last updated to mWGhCVGWuB8o.\", 'result': True}, {'example': 'Linnea_OConnell, please submit your final Psychopharmacology thesis for review by 11/32.', 'result': False}, {'example': 'Dear client, thank you for your payment of NT$200 for our acupuncture services.', 'result': False}, {'example': 'Surely, Nolan and Sons would not want to restrict its healthcare services to people less than 91 years old years of age in the 40753 region?', 'result': False}, {'example': 'The name tag for the new staff member, Angel has arrived. You will find it in the Apt. 634.', 'result': False}, {'example': 'Your password has been reset.', 'result': False}]}}]}\n"
     ]
    }
   ],
   "source": [
    "sensitive_data_password_rule =  {\n",
    "    \"name\": \"Sensitive Data Password Rule\",\n",
    "    \"type\": \"ModelSensitiveDataRule\",\n",
    "    \"apply_to_prompt\": True,\n",
    "    \"apply_to_response\": False,\n",
    "    \"config\": {\n",
    "        \"examples\": [\n",
    "            {\n",
    "                \"example\": \"Hi, Your password 5d9kpQDXRiVf for our online therapy portal has been set successfully.\",\n",
    "                \"result\": True\n",
    "            },\n",
    "            {\n",
    "                \"example\": \"Mr. Conroy's password, h78WwcpT3s6B has leaked online.\",\n",
    "                \"result\": True\n",
    "            },\n",
    "                    {\n",
    "                \"example\": \"During this time, your login credentials Remington31 and VXBDni7EO5od will be reset..\",\n",
    "                \"result\": True\n",
    "            },\n",
    "                    {\n",
    "                \"example\": \"Hey Agnes, your login details for the upcoming clinical trial are as follows: IP: 73ac:d53c:f2bb:94a5:86f3:1dca:e1ec:2b4e, Password: WlBi79j58UsW.\",\n",
    "                \"result\": True\n",
    "            },\n",
    "                    {\n",
    "                \"example\": \"Can't access database for financial report. Hassie34's password last updated to mWGhCVGWuB8o.\",\n",
    "                \"result\": True\n",
    "            },\n",
    "                    {\n",
    "                \"example\": \"Linnea_OConnell, please submit your final Psychopharmacology thesis for review by 11/32.\",\n",
    "                \"result\": False\n",
    "            },\n",
    "                    {\n",
    "                \"example\": \"Dear client, thank you for your payment of NT$200 for our acupuncture services.\",\n",
    "                \"result\": False\n",
    "            },\n",
    "                    {\n",
    "                \"example\": \"Surely, Nolan and Sons would not want to restrict its healthcare services to people less than 91 years old years of age in the 40753 region?\",\n",
    "                \"result\": False\n",
    "            },\n",
    "                    {\n",
    "                \"example\": \"The name tag for the new staff member, Angel has arrived. You will find it in the Apt. 634.\",\n",
    "                \"result\": False\n",
    "            },\n",
    "                    {\n",
    "                \"example\": \"Your password has been reset.\",\n",
    "                \"result\": False\n",
    "            }\n",
    "        ]\n",
    "    }\n",
    "}\n",
    "\n",
    "# Create task, archive all rules except the one we pass, create the rule we pass \n",
    "sensitive_data_password_rule, sensitive_data_password_task = set_up_task_and_rule(sensitive_data_password_rule, \"sensitive-data-password-task\")\n",
    "\n",
    "print(sensitive_data_password_rule)\n",
    "print(sensitive_data_password_task)"
   ]
  },
  {
   "cell_type": "markdown",
   "metadata": {},
   "source": [
    "---\n",
    "### 2. Arthur benchmark dataset evaluation"
   ]
  },
  {
   "cell_type": "markdown",
   "metadata": {},
   "source": [
    "**REMOVE THE SECOND LINE TO RUN ENTIRE DATASET EVALUATION - IT WILL TAKE TIME AND CONSUME AOAI CREDITS**"
   ]
  },
  {
   "cell_type": "code",
   "execution_count": 3,
   "metadata": {},
   "outputs": [],
   "source": [
    "sensitive_data_password_benchmark_df_arthur = pd.read_csv(\"./arthur_benchmark_datasets/sensitive_data_password.csv\")\n",
    "\n",
    "sensitive_data_password_benchmark_df_arthur = sensitive_data_password_benchmark_df_arthur.head(10)"
   ]
  },
  {
   "cell_type": "markdown",
   "metadata": {},
   "source": [
    "#### 2.1  Run the examples against a pre-configured Shield task from Step 1 "
   ]
  },
  {
   "cell_type": "code",
   "execution_count": 6,
   "metadata": {},
   "outputs": [],
   "source": [
    "sensitive_data_password_benchmark_df_arthur = run_shield_evaluation(sensitive_data_password_benchmark_df_arthur, sensitive_data_password_task, sensitive_data_password_rule)\n",
    "current_datetime = datetime.now().strftime(\"%Y-%m-%d %H:%M:%S\")\n",
    "sensitive_data_password_benchmark_df_arthur.to_csv(f\"./results/sensitive_data_password_benchmark_df_arthur_{current_datetime}.csv\")"
   ]
  },
  {
   "cell_type": "markdown",
   "metadata": {},
   "source": [
    "#### 2.2 Analyze Results"
   ]
  },
  {
   "cell_type": "code",
   "execution_count": 7,
   "metadata": {},
   "outputs": [
    {
     "name": "stdout",
     "output_type": "stream",
     "text": [
      "Accuracy: 1.0\n",
      "Precision: 1.0\n",
      "Recall: 1.0\n",
      "F1 Score: 1.0\n",
      "Confusion Matrix:\n",
      "[[TN FP] \n",
      " [FN TP]] \n",
      "[[10]]\n"
     ]
    },
    {
     "name": "stderr",
     "output_type": "stream",
     "text": [
      "/opt/homebrew/lib/python3.11/site-packages/sklearn/metrics/_classification.py:386: UserWarning: A single label was found in 'y_true' and 'y_pred'. For the confusion matrix to have the correct shape, use the 'labels' parameter to pass all known labels.\n",
      "  warnings.warn(\n"
     ]
    }
   ],
   "source": [
    "print_performance_metrics(sensitive_data_password_benchmark_df_arthur)\n",
    "\n",
    "arthur_fn, arthur_fp, arthur_tp, arthur_tn = granular_result_dfs(sensitive_data_password_benchmark_df_arthur)"
   ]
  },
  {
   "cell_type": "markdown",
   "metadata": {},
   "source": [
    "---\n",
    "### 3. Load benchmark datasets from https://shield.docs.arthur.ai/docs/sensitive-data#benchmarks\n",
    "\n",
    "**DISCLAIMER**: This is for demonstration and guidance purposes only and does not reflect the performance of the model behind the Shield score, as sampling techniques may not be optimal. "
   ]
  },
  {
   "cell_type": "markdown",
   "metadata": {},
   "source": [
    "#### 3.1  Run the examples against a pre-configured Shield task from Step 1 "
   ]
  },
  {
   "cell_type": "markdown",
   "metadata": {},
   "source": [
    "#### 3.2 Analyze Results"
   ]
  }
 ],
 "metadata": {
  "kernelspec": {
   "display_name": "Python 3",
   "language": "python",
   "name": "python3"
  },
  "language_info": {
   "codemirror_mode": {
    "name": "ipython",
    "version": 3
   },
   "file_extension": ".py",
   "mimetype": "text/x-python",
   "name": "python",
   "nbconvert_exporter": "python",
   "pygments_lexer": "ipython3",
   "version": "3.11.6"
  }
 },
 "nbformat": 4,
 "nbformat_minor": 2
}
